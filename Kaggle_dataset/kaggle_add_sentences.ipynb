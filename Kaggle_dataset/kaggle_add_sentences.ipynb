{
 "cells": [
  {
   "cell_type": "code",
   "execution_count": 23,
   "metadata": {
    "collapsed": true
   },
   "outputs": [],
   "source": [
    "import numpy as np\n",
    "import pandas as pd\n",
    "import utils"
   ]
  },
  {
   "cell_type": "code",
   "execution_count": 38,
   "outputs": [],
   "source": [
    "dtypes = {\n",
    "    'Unnamed': \"Int64\",\n",
    "    'Datetime': object,\n",
    "    'Tweet Id':\"Int64\",\n",
    "    'Raw content': str,\n",
    "    'Text': str,\n",
    "    'Username': str,\n",
    "    'Reply Count': \"Int16\",\n",
    "    'Retweet Count': \"Int16\",\n",
    "    'Like Count': \"Int16\",\n",
    "    'Quote Count': \"Int16\",\n",
    "    'View Count': \"Int16\",\n",
    "    'Hashtags': object,\n",
    "    'Media': object,\n",
    "    'Coordinates': object,\n",
    "    'Place': object\n",
    "\n",
    "}\n",
    "kaggle = pd.read_csv(\"Kaggle_dataset.csv\", low_memory = False)"
   ],
   "metadata": {
    "collapsed": false
   }
  },
  {
   "cell_type": "code",
   "execution_count": 52,
   "outputs": [
    {
     "name": "stdout",
     "output_type": "stream",
     "text": [
      "<class 'pandas.core.frame.DataFrame'>\n",
      "RangeIndex: 26521 entries, 0 to 26520\n",
      "Data columns (total 17 columns):\n",
      " #   Column         Non-Null Count  Dtype  \n",
      "---  ------         --------------  -----  \n",
      " 0   Unnamed: 0     26521 non-null  object \n",
      " 1   Datetime       26521 non-null  object \n",
      " 2   Tweet Id       26520 non-null  float64\n",
      " 3   Raw content    26520 non-null  object \n",
      " 4   Text           26519 non-null  object \n",
      " 5   Username       26519 non-null  object \n",
      " 6   Reply Count    26518 non-null  float64\n",
      " 7   Retweet Count  26518 non-null  float64\n",
      " 8   Like Count     26518 non-null  float64\n",
      " 9   Quote Count    26518 non-null  float64\n",
      " 10  View Count     0 non-null      float64\n",
      " 11  Hashtags       7154 non-null   object \n",
      " 12  Media          6991 non-null   object \n",
      " 13  Coordinates    557 non-null    object \n",
      " 14  Place          548 non-null    object \n",
      " 15  Captions       26521 non-null  object \n",
      " 16  Ext Text       26521 non-null  object \n",
      "dtypes: float64(6), object(11)\n",
      "memory usage: 3.4+ MB\n"
     ]
    }
   ],
   "source": [
    "kaggle.info()"
   ],
   "metadata": {
    "collapsed": false
   }
  },
  {
   "cell_type": "code",
   "execution_count": 53,
   "outputs": [],
   "source": [
    "kaggle[\"Captions\"] = np.empty((len(kaggle), 0)).tolist()"
   ],
   "metadata": {
    "collapsed": false
   }
  },
  {
   "cell_type": "code",
   "execution_count": 54,
   "outputs": [],
   "source": [
    "kaggle[\"Ext Text\"] = np.empty((len(kaggle), 0)).tolist()"
   ],
   "metadata": {
    "collapsed": false
   }
  },
  {
   "cell_type": "code",
   "execution_count": 55,
   "outputs": [],
   "source": [
    "sentences = utils.get_loaded_json_file('kaggle_BILP2-generated-sentences.json')"
   ],
   "metadata": {
    "collapsed": false
   }
  },
  {
   "cell_type": "code",
   "execution_count": 56,
   "outputs": [
    {
     "name": "stdout",
     "output_type": "stream",
     "text": [
      "6563\n"
     ]
    }
   ],
   "source": [
    "print(len(sentences))"
   ],
   "metadata": {
    "collapsed": false
   }
  },
  {
   "cell_type": "code",
   "execution_count": 57,
   "outputs": [],
   "source": [
    "kaggle['Media'] = kaggle['Media'].apply(lambda x: utils.fix_media_field(x))"
   ],
   "metadata": {
    "collapsed": false
   }
  },
  {
   "cell_type": "code",
   "execution_count": 58,
   "outputs": [
    {
     "data": {
      "text/plain": "float"
     },
     "execution_count": 58,
     "metadata": {},
     "output_type": "execute_result"
    }
   ],
   "source": [
    "type(list(kaggle['Media'])[0])"
   ],
   "metadata": {
    "collapsed": false
   }
  },
  {
   "cell_type": "code",
   "execution_count": 66,
   "outputs": [],
   "source": [
    "for index, row in kaggle.iterrows():\n",
    "    if isinstance(row['Media'], float):\n",
    "         kaggle.at[index, 'Ext Text'] = row['Text']\n",
    "         continue\n",
    "    media_list = row['Media']\n",
    "    captions = []\n",
    "    for m in media_list:\n",
    "        try:\n",
    "            filename = utils.get_filename_from_twitter_media_url(m)\n",
    "        except:\n",
    "            filename = utils.get_filename_format_from_url(m)\n",
    "\n",
    "        if filename in sentences:\n",
    "            caption = sentences[filename]\n",
    "\n",
    "        if caption not in captions:\n",
    "            captions.append(caption)\n",
    "\n",
    "    kaggle.at[index, 'Captions'] = captions\n",
    "\n",
    "    ext_text = row['Text']\n",
    "\n",
    "    if len(captions) == 1:\n",
    "        ext_text += \" \" + captions[0]\n",
    "\n",
    "    elif len(captions) > 1:\n",
    "        ext_text = \"The images attached to the tweet depict \"\n",
    "\n",
    "        for caption in captions:\n",
    "            c = caption.split(\"The image attached to the tweet depicts\")[1]\n",
    "            ext_text = ext_text + c + \",\"\n",
    "\n",
    "        ext_text = row['Text'] + \" \" + ext_text\n",
    "\n",
    "    kaggle.at[index, 'Ext Text'] = ext_text\n"
   ],
   "metadata": {
    "collapsed": false
   }
  },
  {
   "cell_type": "code",
   "execution_count": 67,
   "outputs": [
    {
     "data": {
      "text/plain": "'Tropical Storm Harvey Storm Surge Watch/Warning Map dlvr.it/Phvnq8'"
     },
     "execution_count": 67,
     "metadata": {},
     "output_type": "execute_result"
    }
   ],
   "source": [
    "kaggle['Ext Text'][9]"
   ],
   "metadata": {
    "collapsed": false
   }
  },
  {
   "cell_type": "code",
   "execution_count": 68,
   "outputs": [],
   "source": [
    "kaggle.to_csv(\"Kagglel_dataset_captions.csv\")"
   ],
   "metadata": {
    "collapsed": false
   }
  },
  {
   "cell_type": "code",
   "execution_count": null,
   "outputs": [],
   "source": [],
   "metadata": {
    "collapsed": false
   }
  }
 ],
 "metadata": {
  "kernelspec": {
   "display_name": "Python 3",
   "language": "python",
   "name": "python3"
  },
  "language_info": {
   "codemirror_mode": {
    "name": "ipython",
    "version": 2
   },
   "file_extension": ".py",
   "mimetype": "text/x-python",
   "name": "python",
   "nbconvert_exporter": "python",
   "pygments_lexer": "ipython2",
   "version": "2.7.6"
  }
 },
 "nbformat": 4,
 "nbformat_minor": 0
}
