{
 "cells": [
  {
   "cell_type": "code",
   "execution_count": 2,
   "metadata": {
    "collapsed": true,
    "ExecuteTime": {
     "start_time": "2023-04-11T12:36:07.582233Z",
     "end_time": "2023-04-11T12:36:07.586850Z"
    }
   },
   "outputs": [],
   "source": [
    "from laserembeddings import Laser"
   ]
  },
  {
   "cell_type": "code",
   "execution_count": 4,
   "outputs": [],
   "source": [
    "laser = Laser()"
   ],
   "metadata": {
    "collapsed": false,
    "ExecuteTime": {
     "start_time": "2023-04-11T12:43:34.291637Z",
     "end_time": "2023-04-11T12:43:34.975586Z"
    }
   }
  },
  {
   "cell_type": "code",
   "execution_count": 9,
   "outputs": [
    {
     "ename": "TypeError",
     "evalue": "Laser.embed_sentences() missing 1 required positional argument: 'lang'",
     "output_type": "error",
     "traceback": [
      "\u001B[0;31m---------------------------------------------------------------------------\u001B[0m",
      "\u001B[0;31mTypeError\u001B[0m                                 Traceback (most recent call last)",
      "Cell \u001B[0;32mIn[9], line 1\u001B[0m\n\u001B[0;32m----> 1\u001B[0m embed_test \u001B[38;5;241m=\u001B[39m \u001B[43mlaser\u001B[49m\u001B[38;5;241;43m.\u001B[39;49m\u001B[43membed_sentences\u001B[49m\u001B[43m(\u001B[49m\u001B[43m[\u001B[49m\u001B[38;5;124;43m\"\u001B[39;49m\u001B[38;5;124;43mIch liebe Katzen!\u001B[39;49m\u001B[38;5;124;43m\"\u001B[39;49m\u001B[43m,\u001B[49m\u001B[43m \u001B[49m\u001B[38;5;124;43m\"\u001B[39;49m\u001B[38;5;124;43mAmo gatti!\u001B[39;49m\u001B[38;5;124;43m\"\u001B[39;49m\u001B[43m,\u001B[49m\u001B[43m \u001B[49m\u001B[38;5;124;43m\"\u001B[39;49m\u001B[38;5;124;43mMein Vater fährt Motorrad\u001B[39;49m\u001B[38;5;124;43m\"\u001B[39;49m\u001B[43m]\u001B[49m\u001B[43m)\u001B[49m\n",
      "\u001B[0;31mTypeError\u001B[0m: Laser.embed_sentences() missing 1 required positional argument: 'lang'"
     ]
    }
   ],
   "source": [
    "embed_test = laser.embed_sentences([\"Ich liebe Katzen!\", \"Amo gatti!\", \"Mein Vater fährt Motorrad\"])"
   ],
   "metadata": {
    "collapsed": false,
    "ExecuteTime": {
     "start_time": "2023-04-11T12:48:25.659520Z",
     "end_time": "2023-04-11T12:48:25.908898Z"
    }
   }
  },
  {
   "cell_type": "code",
   "execution_count": 8,
   "outputs": [
    {
     "data": {
      "text/plain": "array([[ 9.2948033e-03, -3.3215729e-05,  1.8508610e-05, ...,\n         1.3720612e-02, -2.8979625e-03,  2.6916752e-03],\n       [ 6.1930679e-03, -4.1480434e-05,  3.9818065e-04, ...,\n        -5.4124312e-04, -2.4643939e-03,  1.4967962e-02],\n       [ 5.4929234e-05,  3.0361186e-04,  1.7140076e-03, ...,\n        -2.9259338e-03, -1.6175593e-03,  1.5513299e-02]], dtype=float32)"
     },
     "execution_count": 8,
     "metadata": {},
     "output_type": "execute_result"
    }
   ],
   "source": [
    "embed_test"
   ],
   "metadata": {
    "collapsed": false,
    "ExecuteTime": {
     "start_time": "2023-04-11T12:48:29.867559Z",
     "end_time": "2023-04-11T12:48:29.888540Z"
    }
   }
  },
  {
   "cell_type": "code",
   "execution_count": null,
   "outputs": [],
   "source": [],
   "metadata": {
    "collapsed": false
   }
  }
 ],
 "metadata": {
  "kernelspec": {
   "display_name": "Python 3",
   "language": "python",
   "name": "python3"
  },
  "language_info": {
   "codemirror_mode": {
    "name": "ipython",
    "version": 2
   },
   "file_extension": ".py",
   "mimetype": "text/x-python",
   "name": "python",
   "nbconvert_exporter": "python",
   "pygments_lexer": "ipython2",
   "version": "2.7.6"
  }
 },
 "nbformat": 4,
 "nbformat_minor": 0
}
