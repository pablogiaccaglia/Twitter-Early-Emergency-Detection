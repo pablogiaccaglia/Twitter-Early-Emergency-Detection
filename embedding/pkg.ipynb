{
 "cells": [
  {
   "cell_type": "code",
   "execution_count": 2,
   "metadata": {
    "collapsed": true,
    "ExecuteTime": {
     "start_time": "2023-04-19T12:18:11.704706Z",
     "end_time": "2023-04-19T12:18:12.753898Z"
    }
   },
   "outputs": [],
   "source": [
    "from laserembeddings import Laser"
   ]
  },
  {
   "cell_type": "code",
   "execution_count": 3,
   "outputs": [],
   "source": [
    "laser = Laser()"
   ],
   "metadata": {
    "collapsed": false,
    "ExecuteTime": {
     "start_time": "2023-04-19T12:18:16.587080Z",
     "end_time": "2023-04-19T12:18:17.715542Z"
    }
   }
  },
  {
   "cell_type": "code",
   "execution_count": 4,
   "outputs": [],
   "source": [
    "embed_test = laser.embed_sentences([\"Ich liebe Katzen!\", \"Amo gatti!\", \"Mein Vater fährt Motorrad\"], lang=\"en\")"
   ],
   "metadata": {
    "collapsed": false,
    "ExecuteTime": {
     "start_time": "2023-04-19T12:18:18.674594Z",
     "end_time": "2023-04-19T12:18:19.040873Z"
    }
   }
  },
  {
   "cell_type": "markdown",
   "source": [
    "Problem: Either have to specify one language for all tweets (not possible, since tweets might be multi-lingual) or separate language for every tweet (not known)."
   ],
   "metadata": {
    "collapsed": false
   }
  },
  {
   "cell_type": "code",
   "execution_count": 5,
   "outputs": [
    {
     "data": {
      "text/plain": "array([[ 9.2948033e-03, -3.3215729e-05,  1.8508610e-05, ...,\n         1.3720612e-02, -2.8979625e-03,  2.6916752e-03],\n       [ 6.1930679e-03, -4.1480434e-05,  3.9818065e-04, ...,\n        -5.4124312e-04, -2.4643939e-03,  1.4967962e-02],\n       [ 5.4929234e-05,  3.0361186e-04,  1.7140076e-03, ...,\n        -2.9259338e-03, -1.6175593e-03,  1.5513299e-02]], dtype=float32)"
     },
     "execution_count": 5,
     "metadata": {},
     "output_type": "execute_result"
    }
   ],
   "source": [
    "embed_test"
   ],
   "metadata": {
    "collapsed": false,
    "ExecuteTime": {
     "start_time": "2023-04-19T12:18:21.455210Z",
     "end_time": "2023-04-19T12:18:21.461167Z"
    }
   }
  },
  {
   "cell_type": "code",
   "execution_count": null,
   "outputs": [],
   "source": [],
   "metadata": {
    "collapsed": false
   }
  }
 ],
 "metadata": {
  "kernelspec": {
   "display_name": "Python 3",
   "language": "python",
   "name": "python3"
  },
  "language_info": {
   "codemirror_mode": {
    "name": "ipython",
    "version": 2
   },
   "file_extension": ".py",
   "mimetype": "text/x-python",
   "name": "python",
   "nbconvert_exporter": "python",
   "pygments_lexer": "ipython2",
   "version": "2.7.6"
  }
 },
 "nbformat": 4,
 "nbformat_minor": 0
}
