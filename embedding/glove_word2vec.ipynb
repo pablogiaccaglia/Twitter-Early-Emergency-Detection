{
 "cells": [
  {
   "cell_type": "code",
   "execution_count": 1,
   "metadata": {
    "collapsed": true,
    "ExecuteTime": {
     "start_time": "2023-04-19T12:38:33.059984Z",
     "end_time": "2023-04-19T12:38:35.655866Z"
    }
   },
   "outputs": [],
   "source": [
    "import re\n",
    "import pandas as pd\n",
    "import gensim.downloader as api\n",
    "from cleantext import clean #package clean-text, not cleantext!"
   ]
  },
  {
   "cell_type": "markdown",
   "source": [
    "### Loading pretrained GloVe (Global Vectors for Word Representation) models"
   ],
   "metadata": {
    "collapsed": false
   }
  },
  {
   "cell_type": "code",
   "execution_count": 2,
   "outputs": [],
   "source": [
    "model_twitter = api.load(\"glove-twitter-50\")\n",
    "model_wiki = api.load(\"glove-wiki-gigaword-50\")"
   ],
   "metadata": {
    "collapsed": false,
    "ExecuteTime": {
     "start_time": "2023-04-19T12:38:49.925412Z",
     "end_time": "2023-04-19T12:39:19.198486Z"
    }
   }
  },
  {
   "cell_type": "code",
   "execution_count": 3,
   "outputs": [],
   "source": [
    "tweets = pd.read_csv(\"/Users/alexander/PycharmProjects/MDP/Kaggle_dataset/Kaggle_dataset.csv\")"
   ],
   "metadata": {
    "collapsed": false,
    "ExecuteTime": {
     "start_time": "2023-04-19T12:39:19.201806Z",
     "end_time": "2023-04-19T12:39:19.677431Z"
    }
   }
  },
  {
   "cell_type": "markdown",
   "source": [
    "### Split sentences into lists of words\n",
    "\n",
    "TODO: Much more serious preprocessing"
   ],
   "metadata": {
    "collapsed": false
   }
  },
  {
   "cell_type": "code",
   "execution_count": 4,
   "outputs": [],
   "source": [
    "regex_http = \"((http|https)\\:\\/\\/)?[a-zA-Z0-9\\.\\/\\?\\:@\\-_=#]+\\.([a-zA-Z]){2,6}([a-zA-Z0-9\\.\\&\\/\\?\\:@\\-_=#])*\"\n",
    "\n",
    "tweets_text = [re.sub(regex_http, '', str(tweet)) for tweet in tweets[\"Text\"]]\n",
    "tweets_text = [clean.clean(tweet, lower=False, no_urls=True, no_emoji=True, no_punct=True).split() for tweet in tweets_text]"
   ],
   "metadata": {
    "collapsed": false,
    "ExecuteTime": {
     "start_time": "2023-04-19T12:39:19.674224Z",
     "end_time": "2023-04-19T12:39:21.259295Z"
    }
   }
  },
  {
   "cell_type": "markdown",
   "source": [
    "The following chunk embeds every word that is in the dictionary and then aggregates (sum or average) the embeddings of every word."
   ],
   "metadata": {
    "collapsed": false
   }
  },
  {
   "cell_type": "code",
   "execution_count": 5,
   "outputs": [],
   "source": [
    "model = model_twitter\n",
    "agg = sum #mean\n",
    "embedds = [agg([model.get_vector(t) for t in tweet if t in model]) for tweet in tweets_text ]"
   ],
   "metadata": {
    "collapsed": false,
    "ExecuteTime": {
     "start_time": "2023-04-19T12:39:41.837605Z",
     "end_time": "2023-04-19T12:39:42.284008Z"
    }
   }
  },
  {
   "cell_type": "code",
   "execution_count": 6,
   "outputs": [
    {
     "name": "stdout",
     "output_type": "stream",
     "text": [
      "Number of Tweets: 26521\n",
      "Number of Embeddings: 26521\n"
     ]
    }
   ],
   "source": [
    "print(f\"Number of Tweets: {len(tweets_text)}\")\n",
    "print(f\"Number of Embeddings: {len(embedds)}\")"
   ],
   "metadata": {
    "collapsed": false,
    "ExecuteTime": {
     "start_time": "2023-04-19T12:39:43.669754Z",
     "end_time": "2023-04-19T12:39:43.678075Z"
    }
   }
  },
  {
   "cell_type": "code",
   "execution_count": null,
   "outputs": [],
   "source": [],
   "metadata": {
    "collapsed": false
   }
  }
 ],
 "metadata": {
  "kernelspec": {
   "display_name": "Python 3",
   "language": "python",
   "name": "python3"
  },
  "language_info": {
   "codemirror_mode": {
    "name": "ipython",
    "version": 2
   },
   "file_extension": ".py",
   "mimetype": "text/x-python",
   "name": "python",
   "nbconvert_exporter": "python",
   "pygments_lexer": "ipython2",
   "version": "2.7.6"
  }
 },
 "nbformat": 4,
 "nbformat_minor": 0
}
