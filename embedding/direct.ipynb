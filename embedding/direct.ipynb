{
 "cells": [
  {
   "cell_type": "code",
   "execution_count": 52,
   "outputs": [],
   "source": [
    "import os\n",
    "import pandas as pd\n",
    "import numpy as np\n",
    "from datetime import datetime"
   ],
   "metadata": {
    "collapsed": false,
    "ExecuteTime": {
     "start_time": "2023-04-19T12:28:40.696262Z",
     "end_time": "2023-04-19T12:28:40.696572Z"
    }
   }
  },
  {
   "cell_type": "markdown",
   "source": [
    "### Setting environmental variable $LASER\n",
    "\n",
    "The LASER code uses the environmental variable `LASER` to know where the executables are stored."
   ],
   "metadata": {
    "collapsed": false
   }
  },
  {
   "cell_type": "code",
   "execution_count": 26,
   "outputs": [
    {
     "name": "stdout",
     "output_type": "stream",
     "text": [
      "/Users/alexander/PycharmProjects/MDP/embedding\r\n"
     ]
    }
   ],
   "source": [
    "!pwd"
   ],
   "metadata": {
    "collapsed": false
   }
  },
  {
   "cell_type": "code",
   "execution_count": 27,
   "outputs": [
    {
     "name": "stdout",
     "output_type": "stream",
     "text": [
      "env: LASER=/Users/alexander/PycharmProjects/MDP/embedding/LASER\n"
     ]
    }
   ],
   "source": [
    "%env LASER=/Users/alexander/PycharmProjects/MDP/embedding/LASER"
   ],
   "metadata": {
    "collapsed": false
   }
  },
  {
   "cell_type": "markdown",
   "source": [
    "### Directly creating embeddings using bash"
   ],
   "metadata": {
    "collapsed": false
   }
  },
  {
   "cell_type": "code",
   "execution_count": 16,
   "outputs": [
    {
     "name": "stdout",
     "output_type": "stream",
     "text": [
      "2023-04-12 16:22:44,756 | INFO | embed | spm_model: /Users/alexander/PycharmProjects/MDP/embedding/LASER/models/laser2.spm\r\n",
      "2023-04-12 16:22:44,756 | INFO | embed | spm_cvocab: /Users/alexander/PycharmProjects/MDP/embedding/LASER/models/laser2.cvocab\r\n",
      "2023-04-12 16:22:44,756 | INFO | embed | loading encoder: /Users/alexander/PycharmProjects/MDP/embedding/LASER/models/laser2.pt\r\n",
      "2023-04-12 16:22:45,212 | INFO | preprocess | SPM processing in_test.csv  \r\n",
      "2023-04-12 16:22:45,271 | INFO | embed | encoding /var/folders/sk/440wdj7s2csb8dhnqrl5p1n80000gn/T/tmp_vhymief/spm to data/out_test.bin\r\n",
      "2023-04-12 16:22:45,403 | INFO | embed | encoded 7 sentences in 0s\r\n"
     ]
    }
   ],
   "source": [
    "!tasks/embed/embed.sh data/in_test.csv data/out_test.bin"
   ],
   "metadata": {
    "collapsed": false
   }
  },
  {
   "cell_type": "code",
   "execution_count": 19,
   "outputs": [],
   "source": [
    "dim = 1024\n",
    "X = np.fromfile(\"data/out_test.bin\", dtype=np.float32, count=-1)\n",
    "X.resize(X.shape[0] // dim, dim)"
   ],
   "metadata": {
    "collapsed": false
   }
  },
  {
   "cell_type": "code",
   "execution_count": 20,
   "outputs": [
    {
     "name": "stdout",
     "output_type": "stream",
     "text": [
      "Dog and no dog: 0.17333778738975525\n",
      "Dog, but different language: 0.07015577703714371\n",
      "Different: 0.5134618282318115\n",
      "Different, but same language: 0.39835819602012634\n"
     ]
    }
   ],
   "source": [
    "print(f\"Dog and no dog: {np.linalg.norm(X[0,:]-X[1,:])}\")\n",
    "print(f\"Dog, but different language: {np.linalg.norm(X[0,:]-X[2,:])}\")\n",
    "print(f\"Different: {np.linalg.norm(X[0,:]-X[4,:])}\")\n",
    "print(f\"Different, but same language: {np.linalg.norm(X[0,:]-X[6,:])}\")"
   ],
   "metadata": {
    "collapsed": false
   }
  },
  {
   "cell_type": "markdown",
   "source": [
    "### Wrapper to create embeddings in python"
   ],
   "metadata": {
    "collapsed": false
   }
  },
  {
   "cell_type": "code",
   "execution_count": 30,
   "outputs": [],
   "source": [
    "def df2embed(df):\n",
    "\n",
    "    if not os.path.exists(\"temp\"):\n",
    "        os.makedirs(\"temp\")\n",
    "\n",
    "    if len(df.columns) != 1:\n",
    "        raise ValueError\n",
    "\n",
    "    t = int(datetime.timestamp(datetime.now()))\n",
    "    df.to_csv(f\"temp/{t}.csv\", header=False, index=False)\n",
    "\n",
    "    os.system(f\"LASER/tasks/embed/embed.sh temp/{t}.csv temp/{t}_emb.bin\")\n",
    "\n",
    "    dim = 1024\n",
    "    emb = np.fromfile(f\"temp/{t}_emb.bin\", dtype=np.float32, count=-1)\n",
    "    emb.resize(emb.shape[0] // dim, dim)\n",
    "\n",
    "    return emb\n"
   ],
   "metadata": {
    "collapsed": false,
    "ExecuteTime": {
     "start_time": "2023-04-19T12:15:18.391558Z",
     "end_time": "2023-04-19T12:15:18.392409Z"
    }
   }
  },
  {
   "cell_type": "markdown",
   "source": [
    "Testing it now with the Kaggle data set without any special data preprocessing. Could just be added after creating the dataframe."
   ],
   "metadata": {
    "collapsed": false
   }
  },
  {
   "cell_type": "code",
   "execution_count": 40,
   "outputs": [],
   "source": [
    "a = pd.read_csv(\"/Users/alexander/PycharmProjects/MDP/Kaggle_dataset/Kaggle_dataset.csv\")[\"Text\"].to_frame()"
   ],
   "metadata": {
    "collapsed": false,
    "ExecuteTime": {
     "start_time": "2023-04-19T12:20:13.440695Z",
     "end_time": "2023-04-19T12:20:13.627657Z"
    }
   }
  },
  {
   "cell_type": "code",
   "execution_count": 43,
   "outputs": [
    {
     "name": "stdout",
     "output_type": "stream",
     "text": [
      "2023-04-19 12:21:42,661 | INFO | embed | spm_model: /Users/alexander/PycharmProjects/MDP/embedding/LASER/models/laser2.spm\n",
      "2023-04-19 12:21:42,661 | INFO | embed | spm_cvocab: /Users/alexander/PycharmProjects/MDP/embedding/LASER/models/laser2.cvocab\n",
      "2023-04-19 12:21:42,661 | INFO | embed | loading encoder: /Users/alexander/PycharmProjects/MDP/embedding/LASER/models/laser2.pt\n",
      "2023-04-19 12:21:43,149 | INFO | preprocess | SPM processing 1681899700.csv  \n",
      "2023-04-19 12:21:43,688 | INFO | embed | encoding /var/folders/sk/440wdj7s2csb8dhnqrl5p1n80000gn/T/tmp4bw68c_q/spm to temp/1681899700_emb.bin\n",
      "2023-04-19 12:22:45,953 | INFO | embed | encoded 10000 sentences\n",
      "2023-04-19 12:23:48,798 | INFO | embed | encoded 20000 sentences\n",
      "2023-04-19 12:24:51,885 | INFO | embed | encoded 30000 sentences\n",
      "2023-04-19 12:24:53,251 | INFO | embed | encoded 30157 sentences in 189s\n"
     ]
    }
   ],
   "source": [
    "tweets_embeddings = df2embed(a)"
   ],
   "metadata": {
    "collapsed": false,
    "ExecuteTime": {
     "start_time": "2023-04-19T12:21:40.953473Z",
     "end_time": "2023-04-19T12:24:53.622940Z"
    }
   }
  },
  {
   "cell_type": "markdown",
   "source": [
    "Created ~30k embeddings locally in ~minutes."
   ],
   "metadata": {
    "collapsed": false
   }
  },
  {
   "cell_type": "code",
   "execution_count": 51,
   "outputs": [
    {
     "name": "stdout",
     "output_type": "stream",
     "text": [
      "(30157, 1024)\n"
     ]
    }
   ],
   "source": [
    "print(tweets_embeddings.shape)"
   ],
   "metadata": {
    "collapsed": false,
    "ExecuteTime": {
     "start_time": "2023-04-19T12:26:56.825619Z",
     "end_time": "2023-04-19T12:26:56.831699Z"
    }
   }
  },
  {
   "cell_type": "code",
   "execution_count": null,
   "outputs": [],
   "source": [],
   "metadata": {
    "collapsed": false
   }
  }
 ],
 "metadata": {
  "kernelspec": {
   "display_name": "Python 3",
   "language": "python",
   "name": "python3"
  },
  "language_info": {
   "codemirror_mode": {
    "name": "ipython",
    "version": 2
   },
   "file_extension": ".py",
   "mimetype": "text/x-python",
   "name": "python",
   "nbconvert_exporter": "python",
   "pygments_lexer": "ipython2",
   "version": "2.7.6"
  }
 },
 "nbformat": 4,
 "nbformat_minor": 0
}
