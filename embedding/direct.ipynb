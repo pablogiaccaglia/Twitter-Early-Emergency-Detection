{
 "cells": [
  {
   "cell_type": "code",
   "execution_count": 10,
   "outputs": [
    {
     "name": "stdout",
     "output_type": "stream",
     "text": [
      "/Users/alexander/PycharmProjects/MDP/embedding/LASER\r\n"
     ]
    }
   ],
   "source": [
    "!pwd"
   ],
   "metadata": {
    "collapsed": false,
    "ExecuteTime": {
     "start_time": "2023-04-12T16:20:33.858037Z",
     "end_time": "2023-04-12T16:20:33.988893Z"
    }
   }
  },
  {
   "cell_type": "code",
   "execution_count": 14,
   "outputs": [
    {
     "name": "stdout",
     "output_type": "stream",
     "text": [
      "env: LASER=/Users/alexander/PycharmProjects/MDP/embedding/LASER\n"
     ]
    }
   ],
   "source": [
    "%env LASER=/Users/alexander/PycharmProjects/MDP/embedding/LASER"
   ],
   "metadata": {
    "collapsed": false,
    "ExecuteTime": {
     "start_time": "2023-04-12T16:22:22.924641Z",
     "end_time": "2023-04-12T16:22:22.926775Z"
    }
   }
  },
  {
   "cell_type": "code",
   "execution_count": 16,
   "outputs": [
    {
     "name": "stdout",
     "output_type": "stream",
     "text": [
      "2023-04-12 16:22:44,756 | INFO | embed | spm_model: /Users/alexander/PycharmProjects/MDP/embedding/LASER/models/laser2.spm\r\n",
      "2023-04-12 16:22:44,756 | INFO | embed | spm_cvocab: /Users/alexander/PycharmProjects/MDP/embedding/LASER/models/laser2.cvocab\r\n",
      "2023-04-12 16:22:44,756 | INFO | embed | loading encoder: /Users/alexander/PycharmProjects/MDP/embedding/LASER/models/laser2.pt\r\n",
      "2023-04-12 16:22:45,212 | INFO | preprocess | SPM processing in_test.csv  \r\n",
      "2023-04-12 16:22:45,271 | INFO | embed | encoding /var/folders/sk/440wdj7s2csb8dhnqrl5p1n80000gn/T/tmp_vhymief/spm to data/out_test.bin\r\n",
      "2023-04-12 16:22:45,403 | INFO | embed | encoded 7 sentences in 0s\r\n"
     ]
    }
   ],
   "source": [
    "!tasks/embed/embed.sh data/in_test.csv data/out_test.bin"
   ],
   "metadata": {
    "collapsed": false,
    "ExecuteTime": {
     "start_time": "2023-04-12T16:22:43.525725Z",
     "end_time": "2023-04-12T16:22:45.761681Z"
    }
   }
  },
  {
   "cell_type": "code",
   "execution_count": 17,
   "outputs": [],
   "source": [
    "import numpy as np"
   ],
   "metadata": {
    "collapsed": false,
    "ExecuteTime": {
     "start_time": "2023-04-12T16:22:49.034740Z",
     "end_time": "2023-04-12T16:22:49.124010Z"
    }
   }
  },
  {
   "cell_type": "code",
   "execution_count": 19,
   "metadata": {
    "collapsed": true,
    "ExecuteTime": {
     "start_time": "2023-04-12T16:22:56.678522Z",
     "end_time": "2023-04-12T16:22:56.682391Z"
    }
   },
   "outputs": [],
   "source": [
    "dim = 1024\n",
    "X = np.fromfile(\"data/out_test.bin\", dtype=np.float32, count=-1)\n",
    "X.resize(X.shape[0] // dim, dim)"
   ]
  },
  {
   "cell_type": "code",
   "execution_count": 20,
   "outputs": [
    {
     "name": "stdout",
     "output_type": "stream",
     "text": [
      "Dog and no dog: 0.17333778738975525\n",
      "Dog, but different language: 0.07015577703714371\n",
      "Different: 0.5134618282318115\n",
      "Different, but same language: 0.39835819602012634\n"
     ]
    }
   ],
   "source": [
    "print(f\"Dog and no dog: {np.linalg.norm(X[0,:]-X[1,:])}\")\n",
    "print(f\"Dog, but different language: {np.linalg.norm(X[0,:]-X[2,:])}\")\n",
    "print(f\"Different: {np.linalg.norm(X[0,:]-X[4,:])}\")\n",
    "print(f\"Different, but same language: {np.linalg.norm(X[0,:]-X[6,:])}\")"
   ],
   "metadata": {
    "collapsed": false,
    "ExecuteTime": {
     "start_time": "2023-04-12T16:23:51.110632Z",
     "end_time": "2023-04-12T16:23:51.139063Z"
    }
   }
  },
  {
   "cell_type": "code",
   "execution_count": null,
   "outputs": [],
   "source": [],
   "metadata": {
    "collapsed": false
   }
  }
 ],
 "metadata": {
  "kernelspec": {
   "display_name": "Python 3",
   "language": "python",
   "name": "python3"
  },
  "language_info": {
   "codemirror_mode": {
    "name": "ipython",
    "version": 2
   },
   "file_extension": ".py",
   "mimetype": "text/x-python",
   "name": "python",
   "nbconvert_exporter": "python",
   "pygments_lexer": "ipython2",
   "version": "2.7.6"
  }
 },
 "nbformat": 4,
 "nbformat_minor": 0
}
