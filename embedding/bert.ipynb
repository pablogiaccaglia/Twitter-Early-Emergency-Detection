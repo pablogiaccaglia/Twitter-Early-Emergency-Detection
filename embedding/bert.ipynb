{
 "cells": [
  {
   "cell_type": "code",
   "execution_count": 1,
   "metadata": {
    "collapsed": true,
    "ExecuteTime": {
     "start_time": "2023-04-19T13:58:03.493570Z",
     "end_time": "2023-04-19T13:58:04.899952Z"
    }
   },
   "outputs": [],
   "source": [
    "from transformers import AutoTokenizer, BertModel\n",
    "import torch\n",
    "import pandas as pd"
   ]
  },
  {
   "cell_type": "code",
   "execution_count": 2,
   "outputs": [
    {
     "name": "stderr",
     "output_type": "stream",
     "text": [
      "Some weights of the model checkpoint at bert-base-multilingual-uncased were not used when initializing BertModel: ['cls.predictions.transform.dense.bias', 'cls.seq_relationship.bias', 'cls.predictions.bias', 'cls.seq_relationship.weight', 'cls.predictions.transform.dense.weight', 'cls.predictions.transform.LayerNorm.weight', 'cls.predictions.transform.LayerNorm.bias', 'cls.predictions.decoder.weight']\n",
      "- This IS expected if you are initializing BertModel from the checkpoint of a model trained on another task or with another architecture (e.g. initializing a BertForSequenceClassification model from a BertForPreTraining model).\n",
      "- This IS NOT expected if you are initializing BertModel from the checkpoint of a model that you expect to be exactly identical (initializing a BertForSequenceClassification model from a BertForSequenceClassification model).\n"
     ]
    }
   ],
   "source": [
    "tokenizer = AutoTokenizer.from_pretrained(\"bert-base-multilingual-uncased\")\n",
    "model = BertModel.from_pretrained(\"bert-base-multilingual-uncased\")"
   ],
   "metadata": {
    "collapsed": false,
    "ExecuteTime": {
     "start_time": "2023-04-19T13:58:04.901018Z",
     "end_time": "2023-04-19T13:58:07.131559Z"
    }
   }
  },
  {
   "cell_type": "code",
   "execution_count": 3,
   "outputs": [],
   "source": [
    "tweets = pd.read_csv(\"/Users/alexander/PycharmProjects/MDP/Kaggle_dataset/Kaggle_dataset.csv\")[\"Text\"].to_list()\n",
    "tweets = [str(t) for t in tweets][:100]"
   ],
   "metadata": {
    "collapsed": false,
    "ExecuteTime": {
     "start_time": "2023-04-19T13:58:07.133682Z",
     "end_time": "2023-04-19T13:58:07.258758Z"
    }
   }
  },
  {
   "cell_type": "code",
   "execution_count": 4,
   "outputs": [],
   "source": [
    "inputs = tokenizer(tweets, return_tensors=\"pt\", padding=True, truncation=True)"
   ],
   "metadata": {
    "collapsed": false,
    "ExecuteTime": {
     "start_time": "2023-04-19T13:58:07.259942Z",
     "end_time": "2023-04-19T13:58:07.267472Z"
    }
   }
  },
  {
   "cell_type": "code",
   "execution_count": 5,
   "outputs": [],
   "source": [
    "outputs = model(**inputs)"
   ],
   "metadata": {
    "collapsed": false,
    "ExecuteTime": {
     "start_time": "2023-04-19T13:59:07.718123Z",
     "end_time": "2023-04-19T13:59:11.142023Z"
    }
   }
  },
  {
   "cell_type": "code",
   "execution_count": 6,
   "outputs": [],
   "source": [
    "last_hidden_states = outputs.last_hidden_state"
   ],
   "metadata": {
    "collapsed": false,
    "ExecuteTime": {
     "start_time": "2023-04-19T13:59:16.582102Z",
     "end_time": "2023-04-19T13:59:16.590806Z"
    }
   }
  },
  {
   "cell_type": "code",
   "execution_count": 8,
   "outputs": [
    {
     "data": {
      "text/plain": "torch.Size([100, 59, 768])"
     },
     "execution_count": 8,
     "metadata": {},
     "output_type": "execute_result"
    }
   ],
   "source": [
    "last_hidden_states.shape"
   ],
   "metadata": {
    "collapsed": false,
    "ExecuteTime": {
     "start_time": "2023-04-19T13:59:35.305057Z",
     "end_time": "2023-04-19T13:59:35.310952Z"
    }
   }
  },
  {
   "cell_type": "code",
   "execution_count": 9,
   "outputs": [
    {
     "data": {
      "text/plain": "tensor([[[-1.4692e-01, -5.3936e-02, -4.5378e-03,  ..., -2.6950e-02,\n          -1.3190e-01, -3.0847e-02],\n         [ 1.1599e-01,  3.9563e-01,  2.3160e-01,  ..., -1.0340e-01,\n           3.7288e-01, -1.9013e-01],\n         [-1.0507e-01,  4.5117e-03,  1.2137e-02,  ..., -1.7774e-01,\n           4.6006e-01,  4.2534e-02],\n         ...,\n         [ 2.9663e-02, -1.4844e-01,  1.5557e-01,  ..., -3.9806e-01,\n           1.6306e-01, -2.3355e-01],\n         [ 4.6702e-02, -1.5717e-01,  1.6282e-01,  ..., -4.1878e-01,\n           8.3728e-02, -1.8213e-01],\n         [ 2.7386e-02, -1.8022e-01,  1.6475e-01,  ..., -3.3280e-01,\n           6.0498e-02, -1.2145e-01]],\n\n        [[-3.5754e-02,  1.6038e-02,  1.4247e-02,  ..., -1.9550e-02,\n          -1.2321e-02, -1.3997e-02],\n         [-6.5355e-03,  6.3592e-01, -4.3515e-02,  ..., -6.4994e-02,\n           3.7827e-01, -1.7108e-01],\n         [-4.9395e-01,  4.1418e-01,  1.1544e-01,  ...,  5.7266e-02,\n           7.5011e-01, -6.2793e-01],\n         ...,\n         [-1.6886e-02, -1.6200e-01,  1.8336e-01,  ..., -2.4674e-01,\n           4.3474e-01, -1.6715e-01],\n         [-5.7011e-02, -2.1018e-01,  1.8866e-01,  ..., -3.3286e-01,\n           4.2814e-01, -1.1643e-01],\n         [-9.2526e-02, -1.5046e-01,  3.0847e-01,  ..., -2.4479e-01,\n           3.5614e-01, -1.0038e-01]],\n\n        [[-1.0106e-01,  1.2430e-01, -1.6300e-02,  ...,  4.5144e-02,\n           6.2746e-02, -4.6315e-02],\n         [-6.9707e-02,  4.5373e-01, -5.3063e-01,  ..., -3.2806e-01,\n           8.1952e-01, -7.6794e-01],\n         [-6.2355e-01,  4.5173e-01, -5.9133e-02,  ...,  2.0731e-02,\n           8.7456e-01, -4.0018e-01],\n         ...,\n         [-1.4881e-01,  3.0595e-01,  1.6342e-02,  ..., -1.2389e-01,\n           2.2274e-01, -2.5435e-01],\n         [-2.6140e-01,  1.2078e-01,  1.9299e-01,  ..., -4.4731e-02,\n           2.2859e-01, -2.9834e-01],\n         [-1.2258e-01,  2.7762e-01,  2.6944e-01,  ...,  1.9282e-01,\n           4.6455e-01, -3.3476e-01]],\n\n        ...,\n\n        [[-1.0386e-01,  8.0336e-02,  1.9149e-02,  ...,  4.3146e-02,\n          -1.9922e-02, -4.2707e-02],\n         [ 1.1339e-01,  8.3803e-01, -1.9775e-01,  ...,  3.7018e-01,\n           2.0876e-01, -1.0952e+00],\n         [-2.3708e-01,  5.5315e-01,  2.4721e-02,  ...,  6.3526e-02,\n           1.9388e-01, -6.3792e-01],\n         ...,\n         [ 6.6256e-02,  3.5546e-02,  3.0498e-01,  ..., -1.8251e-02,\n           2.7114e-01, -4.4089e-01],\n         [-3.2696e-02,  1.0593e-01,  2.9044e-01,  ..., -1.7467e-01,\n           2.2308e-01, -1.9246e-01],\n         [-1.9877e-01,  2.9646e-01,  1.8900e-01,  ..., -3.6855e-01,\n           2.5660e-01, -1.6065e-04]],\n\n        [[-2.4059e-02,  1.2639e-01,  7.8747e-03,  ...,  3.2770e-02,\n          -1.7723e-02, -6.1820e-02],\n         [-9.9831e-02,  7.0492e-01, -1.5069e-01,  ..., -2.2207e-01,\n           5.7547e-01, -2.4641e-01],\n         [-7.4731e-01,  3.1431e-01, -1.5584e-01,  ..., -2.0521e-01,\n           9.1750e-01, -7.1584e-01],\n         ...,\n         [ 4.9830e-02, -8.6489e-02,  9.5008e-02,  ..., -1.2232e-01,\n           2.7165e-01, -4.0045e-01],\n         [-3.8357e-02, -9.2372e-02,  1.8077e-01,  ..., -1.3649e-01,\n           2.7552e-01, -3.3665e-01],\n         [ 6.1406e-02, -3.8739e-02,  1.1513e-01,  ..., -4.8407e-02,\n           2.8572e-01, -1.6685e-01]],\n\n        [[-7.5908e-02,  7.3891e-02,  2.5239e-02,  ..., -1.0362e-02,\n          -4.2151e-02, -2.0075e-02],\n         [ 1.6537e-01,  5.6318e-01,  2.1215e-01,  ..., -4.0509e-01,\n           5.4146e-01, -1.6895e-01],\n         [-6.1939e-01,  7.9877e-01,  3.3271e-01,  ..., -1.7973e-01,\n           9.7052e-01, -7.7490e-01],\n         ...,\n         [-3.9179e-01,  1.0058e-01,  4.5753e-01,  ...,  8.4082e-02,\n           5.6821e-01, -3.7445e-01],\n         [ 7.8211e-02, -2.3314e-02,  2.6602e-01,  ..., -5.3414e-02,\n           3.1651e-01, -2.6677e-01],\n         [-2.4642e-02,  1.0854e-01,  2.8453e-01,  ...,  5.4322e-02,\n           3.9170e-01, -2.3062e-01]]], grad_fn=<NativeLayerNormBackward0>)"
     },
     "execution_count": 9,
     "metadata": {},
     "output_type": "execute_result"
    }
   ],
   "source": [
    "last_hidden_states"
   ],
   "metadata": {
    "collapsed": false,
    "ExecuteTime": {
     "start_time": "2023-04-19T13:59:53.929235Z",
     "end_time": "2023-04-19T13:59:53.952591Z"
    }
   }
  },
  {
   "cell_type": "code",
   "execution_count": null,
   "outputs": [],
   "source": [],
   "metadata": {
    "collapsed": false
   }
  }
 ],
 "metadata": {
  "kernelspec": {
   "display_name": "Python 3",
   "language": "python",
   "name": "python3"
  },
  "language_info": {
   "codemirror_mode": {
    "name": "ipython",
    "version": 2
   },
   "file_extension": ".py",
   "mimetype": "text/x-python",
   "name": "python",
   "nbconvert_exporter": "python",
   "pygments_lexer": "ipython2",
   "version": "2.7.6"
  }
 },
 "nbformat": 4,
 "nbformat_minor": 0
}
