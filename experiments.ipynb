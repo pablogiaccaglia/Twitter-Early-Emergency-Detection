{
 "cells": [
  {
   "cell_type": "code",
   "execution_count": 51,
   "metadata": {
    "collapsed": true
   },
   "outputs": [],
   "source": [
    "import pandas as pd\n",
    "import json\n",
    "import ast\n",
    "import re"
   ]
  },
  {
   "cell_type": "code",
   "execution_count": 56,
   "outputs": [],
   "source": [
    "dtypes = {\n",
    "    'Unnamed': \"Int64\",\n",
    "    'Datetime': object,\n",
    "    'Tweet Id':\"Int64\",\n",
    "    'Raw content': str,\n",
    "    'Text': str,\n",
    "    'Username': str,\n",
    "    'Reply Count': \"Int16\",\n",
    "    'Retweet Count': \"Int16\",\n",
    "    'Like Count': \"Int16\",\n",
    "    'Quote Count': \"Int16\",\n",
    "    'View Count': \"Int16\",\n",
    "    'Hashtags': object,\n",
    "    'Media': object,\n",
    "    'Coordinates': object,\n",
    "    'Place': object\n",
    "\n",
    "}\n",
    "unt = pd.read_csv(\"UNT_dataset/UNT_dataset_ids_full.csv\", low_memory = False, lineterminator='\\n')"
   ],
   "metadata": {
    "collapsed": false
   }
  },
  {
   "cell_type": "code",
   "execution_count": 58,
   "outputs": [],
   "source": [
    "df_UNT_small = unt.sample(n=1000)"
   ],
   "metadata": {
    "collapsed": false
   }
  },
  {
   "cell_type": "code",
   "execution_count": 60,
   "outputs": [],
   "source": [
    "df_UNT_small.to_csv(\"UNT_small_3.csv\")"
   ],
   "metadata": {
    "collapsed": false
   }
  },
  {
   "cell_type": "code",
   "execution_count": 59,
   "outputs": [
    {
     "data": {
      "text/plain": "         Unnamed: 0  Unnamed: 0.1                   Datetime  \\\n2976731     2976731        618046  2017-08-31 03:33:50+00:00   \n642008       642008         31237  2017-08-26 06:20:50+00:00   \n2924578     2924578        565893  2017-08-31 00:46:53+00:00   \n1280109     1280109         88686  2017-08-27 21:33:11+00:00   \n461965       461965        461965  2017-08-26 00:01:31+00:00   \n...             ...           ...                        ...   \n2047351     2047351        276572  2017-08-29 04:49:30+00:00   \n1303782     1303782        112359  2017-08-27 22:06:49+00:00   \n2684550     2684550        325865  2017-08-30 14:12:48+00:00   \n1053514     1053514        442743  2017-08-27 16:02:43+00:00   \n2333809     2333809        563030  2017-08-29 20:44:16+00:00   \n\n                   Tweet Id  \\\n2976731  903098479530168324   \n642008   901328565253402624   \n2924578  903056462682968065   \n1280109  901920552591511552   \n461965   901233105125748736   \n...                     ...   \n2047351  902392743695134720   \n1303782  901929019188404225   \n2684550  902896891079380992   \n1053514  901837388523163649   \n2333809  902633018887680003   \n\n                                               Raw content  \\\n2976731  RT @Kingnickrusso: Diapers and wipes came floo...   \n642008   ➡️Check FB group for family, friends messages↪...   \n2924578  RT @umksig: Kappa Sig will be donating $0.25 f...   \n1280109  RT @_iceyy_dezto: Only in Texas 😂🏄🏾🤘🏾 #Hurrica...   \n461965   RT @TexasTribune: Breaking: Hurricane #Harvey ...   \n...                                                    ...   \n2047351  RT @hannahjoyTV: Ways you can help. #Hurricane...   \n1303782  RT @PaulFox13: This is insane. #houstonflood h...   \n2684550  RT @RepArrington: In the wake of #HurricaneHar...   \n1053514  RT @PEstrada_DPT: Med Center bayou just about ...   \n2333809  #Harvey #donate #redcross #pray #dosomethingat...   \n\n                                                      Text        Username  \\\n2976731  RT @Kingnickrusso: Diapers and wipes came floo...  brittanyzucker   \n642008   ➡️Check FB group for family, friends messages↪...         TXGal91   \n2924578  RT @umksig: Kappa Sig will be donating $0.25 f...  bonjourbreanne   \n1280109  RT @_iceyy_dezto: Only in Texas 😂🏄🏾🤘🏾 #Hurrica...          _nyiss   \n461965   RT @TexasTribune: Breaking: Hurricane #Harvey ...      meagodiego   \n...                                                    ...             ...   \n2047351  RT @hannahjoyTV: Ways you can help. #Hurricane...   deuceandabuse   \n1303782  RT @PaulFox13: This is insane. #houstonflood h...         Ikuyoru   \n2684550  RT @RepArrington: In the wake of #HurricaneHar...   Kenneth__Lara   \n1053514  RT @PEstrada_DPT: Med Center bayou just about ...        velystia   \n2333809  #Harvey #donate #redcross #pray #dosomethingat...  jeffcaldwelljr   \n\n         Reply Count  Retweet Count  Like Count  Quote Count  View Count  \\\n2976731            0            124           0            0         NaN   \n642008             0              1           1            0         NaN   \n2924578            0         113319           0            0         NaN   \n1280109            0            803           0            0         NaN   \n461965             0            140           0            0         NaN   \n...              ...            ...         ...          ...         ...   \n2047351            0              3           0            0         NaN   \n1303782            0           9670           0            0         NaN   \n2684550            0           5691           0            0         NaN   \n1053514            0            138           0            0         NaN   \n2333809            0              0           0            0         NaN   \n\n                                                  Hashtags  \\\n2976731  ['HoustonStrong', 'HoustonFlood', 'Texas', 'Ho...   \n642008                                          ['Harvey']   \n2924578                                ['HurricaneHarvey']   \n1280109                                ['HurricaneHarvey']   \n461965                                          ['Harvey']   \n...                                                    ...   \n2047351                                ['HurricaneHarvey']   \n1303782                                   ['houstonflood']   \n2684550                                ['HurricaneHarvey']   \n1053514        ['Harvey', 'HurricaneHarvey', 'Harvey2017']   \n2333809  ['Harvey', 'donate', 'redcross', 'pray', 'doso...   \n\n                                                     Media Coordinates Place  \n2976731  [Photo(previewUrl='https://pbs.twimg.com/media...         NaN   NaN  \n642008   [Photo(previewUrl='https://pbs.twimg.com/media...         NaN   NaN  \n2924578                                                NaN         NaN   NaN  \n1280109  [Video(thumbnailUrl='https://pbs.twimg.com/ext...         NaN   NaN  \n461965   [Gif(thumbnailUrl='https://pbs.twimg.com/tweet...         NaN   NaN  \n...                                                    ...         ...   ...  \n2047351                                                NaN         NaN   NaN  \n1303782  [Photo(previewUrl='https://pbs.twimg.com/media...         NaN   NaN  \n2684550                                                NaN         NaN   NaN  \n1053514  [Photo(previewUrl='https://pbs.twimg.com/media...         NaN   NaN  \n2333809                                                NaN         NaN   NaN  \n\n[1000 rows x 16 columns]",
      "text/html": "<div>\n<style scoped>\n    .dataframe tbody tr th:only-of-type {\n        vertical-align: middle;\n    }\n\n    .dataframe tbody tr th {\n        vertical-align: top;\n    }\n\n    .dataframe thead th {\n        text-align: right;\n    }\n</style>\n<table border=\"1\" class=\"dataframe\">\n  <thead>\n    <tr style=\"text-align: right;\">\n      <th></th>\n      <th>Unnamed: 0</th>\n      <th>Unnamed: 0.1</th>\n      <th>Datetime</th>\n      <th>Tweet Id</th>\n      <th>Raw content</th>\n      <th>Text</th>\n      <th>Username</th>\n      <th>Reply Count</th>\n      <th>Retweet Count</th>\n      <th>Like Count</th>\n      <th>Quote Count</th>\n      <th>View Count</th>\n      <th>Hashtags</th>\n      <th>Media</th>\n      <th>Coordinates</th>\n      <th>Place</th>\n    </tr>\n  </thead>\n  <tbody>\n    <tr>\n      <th>2976731</th>\n      <td>2976731</td>\n      <td>618046</td>\n      <td>2017-08-31 03:33:50+00:00</td>\n      <td>903098479530168324</td>\n      <td>RT @Kingnickrusso: Diapers and wipes came floo...</td>\n      <td>RT @Kingnickrusso: Diapers and wipes came floo...</td>\n      <td>brittanyzucker</td>\n      <td>0</td>\n      <td>124</td>\n      <td>0</td>\n      <td>0</td>\n      <td>NaN</td>\n      <td>['HoustonStrong', 'HoustonFlood', 'Texas', 'Ho...</td>\n      <td>[Photo(previewUrl='https://pbs.twimg.com/media...</td>\n      <td>NaN</td>\n      <td>NaN</td>\n    </tr>\n    <tr>\n      <th>642008</th>\n      <td>642008</td>\n      <td>31237</td>\n      <td>2017-08-26 06:20:50+00:00</td>\n      <td>901328565253402624</td>\n      <td>➡️Check FB group for family, friends messages↪...</td>\n      <td>➡️Check FB group for family, friends messages↪...</td>\n      <td>TXGal91</td>\n      <td>0</td>\n      <td>1</td>\n      <td>1</td>\n      <td>0</td>\n      <td>NaN</td>\n      <td>['Harvey']</td>\n      <td>[Photo(previewUrl='https://pbs.twimg.com/media...</td>\n      <td>NaN</td>\n      <td>NaN</td>\n    </tr>\n    <tr>\n      <th>2924578</th>\n      <td>2924578</td>\n      <td>565893</td>\n      <td>2017-08-31 00:46:53+00:00</td>\n      <td>903056462682968065</td>\n      <td>RT @umksig: Kappa Sig will be donating $0.25 f...</td>\n      <td>RT @umksig: Kappa Sig will be donating $0.25 f...</td>\n      <td>bonjourbreanne</td>\n      <td>0</td>\n      <td>113319</td>\n      <td>0</td>\n      <td>0</td>\n      <td>NaN</td>\n      <td>['HurricaneHarvey']</td>\n      <td>NaN</td>\n      <td>NaN</td>\n      <td>NaN</td>\n    </tr>\n    <tr>\n      <th>1280109</th>\n      <td>1280109</td>\n      <td>88686</td>\n      <td>2017-08-27 21:33:11+00:00</td>\n      <td>901920552591511552</td>\n      <td>RT @_iceyy_dezto: Only in Texas 😂🏄🏾🤘🏾 #Hurrica...</td>\n      <td>RT @_iceyy_dezto: Only in Texas 😂🏄🏾🤘🏾 #Hurrica...</td>\n      <td>_nyiss</td>\n      <td>0</td>\n      <td>803</td>\n      <td>0</td>\n      <td>0</td>\n      <td>NaN</td>\n      <td>['HurricaneHarvey']</td>\n      <td>[Video(thumbnailUrl='https://pbs.twimg.com/ext...</td>\n      <td>NaN</td>\n      <td>NaN</td>\n    </tr>\n    <tr>\n      <th>461965</th>\n      <td>461965</td>\n      <td>461965</td>\n      <td>2017-08-26 00:01:31+00:00</td>\n      <td>901233105125748736</td>\n      <td>RT @TexasTribune: Breaking: Hurricane #Harvey ...</td>\n      <td>RT @TexasTribune: Breaking: Hurricane #Harvey ...</td>\n      <td>meagodiego</td>\n      <td>0</td>\n      <td>140</td>\n      <td>0</td>\n      <td>0</td>\n      <td>NaN</td>\n      <td>['Harvey']</td>\n      <td>[Gif(thumbnailUrl='https://pbs.twimg.com/tweet...</td>\n      <td>NaN</td>\n      <td>NaN</td>\n    </tr>\n    <tr>\n      <th>...</th>\n      <td>...</td>\n      <td>...</td>\n      <td>...</td>\n      <td>...</td>\n      <td>...</td>\n      <td>...</td>\n      <td>...</td>\n      <td>...</td>\n      <td>...</td>\n      <td>...</td>\n      <td>...</td>\n      <td>...</td>\n      <td>...</td>\n      <td>...</td>\n      <td>...</td>\n      <td>...</td>\n    </tr>\n    <tr>\n      <th>2047351</th>\n      <td>2047351</td>\n      <td>276572</td>\n      <td>2017-08-29 04:49:30+00:00</td>\n      <td>902392743695134720</td>\n      <td>RT @hannahjoyTV: Ways you can help. #Hurricane...</td>\n      <td>RT @hannahjoyTV: Ways you can help. #Hurricane...</td>\n      <td>deuceandabuse</td>\n      <td>0</td>\n      <td>3</td>\n      <td>0</td>\n      <td>0</td>\n      <td>NaN</td>\n      <td>['HurricaneHarvey']</td>\n      <td>NaN</td>\n      <td>NaN</td>\n      <td>NaN</td>\n    </tr>\n    <tr>\n      <th>1303782</th>\n      <td>1303782</td>\n      <td>112359</td>\n      <td>2017-08-27 22:06:49+00:00</td>\n      <td>901929019188404225</td>\n      <td>RT @PaulFox13: This is insane. #houstonflood h...</td>\n      <td>RT @PaulFox13: This is insane. #houstonflood h...</td>\n      <td>Ikuyoru</td>\n      <td>0</td>\n      <td>9670</td>\n      <td>0</td>\n      <td>0</td>\n      <td>NaN</td>\n      <td>['houstonflood']</td>\n      <td>[Photo(previewUrl='https://pbs.twimg.com/media...</td>\n      <td>NaN</td>\n      <td>NaN</td>\n    </tr>\n    <tr>\n      <th>2684550</th>\n      <td>2684550</td>\n      <td>325865</td>\n      <td>2017-08-30 14:12:48+00:00</td>\n      <td>902896891079380992</td>\n      <td>RT @RepArrington: In the wake of #HurricaneHar...</td>\n      <td>RT @RepArrington: In the wake of #HurricaneHar...</td>\n      <td>Kenneth__Lara</td>\n      <td>0</td>\n      <td>5691</td>\n      <td>0</td>\n      <td>0</td>\n      <td>NaN</td>\n      <td>['HurricaneHarvey']</td>\n      <td>NaN</td>\n      <td>NaN</td>\n      <td>NaN</td>\n    </tr>\n    <tr>\n      <th>1053514</th>\n      <td>1053514</td>\n      <td>442743</td>\n      <td>2017-08-27 16:02:43+00:00</td>\n      <td>901837388523163649</td>\n      <td>RT @PEstrada_DPT: Med Center bayou just about ...</td>\n      <td>RT @PEstrada_DPT: Med Center bayou just about ...</td>\n      <td>velystia</td>\n      <td>0</td>\n      <td>138</td>\n      <td>0</td>\n      <td>0</td>\n      <td>NaN</td>\n      <td>['Harvey', 'HurricaneHarvey', 'Harvey2017']</td>\n      <td>[Photo(previewUrl='https://pbs.twimg.com/media...</td>\n      <td>NaN</td>\n      <td>NaN</td>\n    </tr>\n    <tr>\n      <th>2333809</th>\n      <td>2333809</td>\n      <td>563030</td>\n      <td>2017-08-29 20:44:16+00:00</td>\n      <td>902633018887680003</td>\n      <td>#Harvey #donate #redcross #pray #dosomethingat...</td>\n      <td>#Harvey #donate #redcross #pray #dosomethingat...</td>\n      <td>jeffcaldwelljr</td>\n      <td>0</td>\n      <td>0</td>\n      <td>0</td>\n      <td>0</td>\n      <td>NaN</td>\n      <td>['Harvey', 'donate', 'redcross', 'pray', 'doso...</td>\n      <td>NaN</td>\n      <td>NaN</td>\n      <td>NaN</td>\n    </tr>\n  </tbody>\n</table>\n<p>1000 rows × 16 columns</p>\n</div>"
     },
     "execution_count": 59,
     "metadata": {},
     "output_type": "execute_result"
    }
   ],
   "source": [
    "df_UNT_small"
   ],
   "metadata": {
    "collapsed": false
   }
  },
  {
   "cell_type": "code",
   "execution_count": 30,
   "outputs": [],
   "source": [
    "dtypes = {\n",
    "    'Unnamed': \"Int64\",\n",
    "    'Datetime': object,\n",
    "    'Tweet Id':\"Int64\",\n",
    "    'Raw content': str,\n",
    "    'Text': str,\n",
    "    'Username': str,\n",
    "    'Reply Count': \"Int16\",\n",
    "    'Retweet Count': \"Int16\",\n",
    "    'Like Count': \"Int16\",\n",
    "    'Quote Count': \"Int16\",\n",
    "    'View Count': \"Int16\",\n",
    "    'Hashtags': object,\n",
    "    'Media': object,\n",
    "    'Coordinates': object,\n",
    "    'Place': object\n",
    "\n",
    "}\n",
    "\n",
    "crisisMMD = pd.read_csv(\"CrisisMMD_v2.0/CrisisMMD_final_dataset.csv\", dtype = dtypes)\n",
    "labels_df = pd.read_csv(\"CrisisMMD_v2.0/hurricane_harvey_final_data.tsv\", sep= '\\t')\n",
    "\n",
    "def length(text):\n",
    "    '''a function which returns the length of text'''\n",
    "    return len(text)\n",
    "\n",
    "def assign_target(tweet_id):\n",
    "\n",
    "  t_info = list(labels_df.loc[labels_df['tweet_id'] == tweet_id]['text_info'])[0]\n",
    "\n",
    "  if t_info == \"informative\":\n",
    "    return 1\n",
    "  else:\n",
    "    return 0\n",
    "\n",
    "crisisMMD['length'] = crisisMMD['Text'].apply(length)\n",
    "crisisMMD['text_info'] = crisisMMD['Tweet Id'].apply(assign_target)"
   ],
   "metadata": {
    "collapsed": false
   }
  },
  {
   "cell_type": "code",
   "execution_count": 31,
   "outputs": [
    {
     "name": "stdout",
     "output_type": "stream",
     "text": [
      "<class 'pandas.core.frame.DataFrame'>\n",
      "RangeIndex: 3992 entries, 0 to 3991\n",
      "Data columns (total 18 columns):\n",
      " #   Column         Non-Null Count  Dtype \n",
      "---  ------         --------------  ----- \n",
      " 0   Unnamed: 0     3992 non-null   int64 \n",
      " 1   Idx            3992 non-null   int64 \n",
      " 2   Datetime       3992 non-null   object\n",
      " 3   Tweet Id       3992 non-null   Int64 \n",
      " 4   Raw content    3992 non-null   object\n",
      " 5   Text           3992 non-null   object\n",
      " 6   Username       3992 non-null   object\n",
      " 7   Reply Count    2917 non-null   Int16 \n",
      " 8   Retweet Count  3992 non-null   Int16 \n",
      " 9   Like Count     2917 non-null   Int16 \n",
      " 10  Quote Count    2917 non-null   Int16 \n",
      " 11  View Count     0 non-null      Int16 \n",
      " 12  Hashtags       2297 non-null   object\n",
      " 13  Media          2912 non-null   object\n",
      " 14  Coordinates    74 non-null     object\n",
      " 15  Place          74 non-null     object\n",
      " 16  length         3992 non-null   int64 \n",
      " 17  text_info      3992 non-null   int64 \n",
      "dtypes: Int16(5), Int64(1), int64(4), object(8)\n",
      "memory usage: 467.9+ KB\n"
     ]
    }
   ],
   "source": [
    "crisisMMD.info()"
   ],
   "metadata": {
    "collapsed": false
   }
  },
  {
   "cell_type": "code",
   "execution_count": 32,
   "outputs": [],
   "source": [
    "dtypes_1 = {\n",
    "    'Unnamed: 0': \"Int64\",\n",
    "    'Unnamed: 0.1': \"Int64\",\n",
    "    'Unnamed: 0.1.1': \"Int64\",\n",
    "    'Datetime': object,\n",
    "    'Tweet Id':\"Int64\",\n",
    "    'Raw content': str,\n",
    "    'Text': str,\n",
    "    'Username': str,\n",
    "    'Reply Count': \"Int16\",\n",
    "    'Retweet Count': \"Int16\",\n",
    "    'Like Count': \"Int16\",\n",
    "    'Quote Count': \"Int16\",\n",
    "    'View Count': \"Int16\",\n",
    "    'Hashtags': object,\n",
    "    'Media': object,\n",
    "    'Coordinates': object,\n",
    "    'Place': object,\n",
    "    'Informative/Not Informative': str\n",
    "}\n",
    "\n",
    "dtypes_2 = {\n",
    "    'Column1': \"Int64\",\n",
    "    'Unnamed: 0': \"Int64\",\n",
    "    'Unnamed: 0.1': \"Int64\",\n",
    "    'Datetime': object,\n",
    "    'Tweet Id':\"Int64\",\n",
    "    'Raw content': str,\n",
    "    'Text': str,\n",
    "    'Username': str,\n",
    "    'Reply Count': \"Int16\",\n",
    "    'Retweet Count': \"Int16\",\n",
    "    'Like Count': \"Int16\",\n",
    "    'Quote Count': \"Int16\",\n",
    "    'View Count': \"Int16\",\n",
    "    'Hashtags': object,\n",
    "    'Media': object,\n",
    "    'Coordinates': object,\n",
    "    'Place': object,\n",
    "    'Informative/Not Informative': str\n",
    "}\n",
    "\n",
    "unt_1 = pd.read_csv(\"CrisisMMD_v2.0/UNT_small_labelled.csv\", low_memory = False, dtype = dtypes_1)\n",
    "unt_2 = pd.read_csv(\"CrisisMMD_v2.0/UNT_small_2_labelled.CSV\",\n",
    "                    low_memory = False,\n",
    "                    sep = \";\",\n",
    "                    lineterminator = '\\n',\n",
    "                    encoding= 'unicode_escape', dtype = dtypes_2)"
   ],
   "metadata": {
    "collapsed": false
   }
  },
  {
   "cell_type": "code",
   "execution_count": 33,
   "outputs": [
    {
     "name": "stdout",
     "output_type": "stream",
     "text": [
      "<class 'pandas.core.frame.DataFrame'>\n",
      "RangeIndex: 1000 entries, 0 to 999\n",
      "Data columns (total 17 columns):\n",
      " #   Column                       Non-Null Count  Dtype \n",
      "---  ------                       --------------  ----- \n",
      " 0   Tweet Id                     1000 non-null   Int64 \n",
      " 1   Unnamed: 0                   1000 non-null   Int64 \n",
      " 2   Unnamed: 0.1                 1000 non-null   Int64 \n",
      " 3   Datetime                     1000 non-null   object\n",
      " 4   Raw content                  1000 non-null   object\n",
      " 5   Text                         1000 non-null   object\n",
      " 6   Username                     1000 non-null   object\n",
      " 7   Reply Count                  1000 non-null   Int16 \n",
      " 8   Retweet Count                1000 non-null   Int16 \n",
      " 9   Like Count                   1000 non-null   Int16 \n",
      " 10  Quote Count                  1000 non-null   Int16 \n",
      " 11  View Count                   0 non-null      Int16 \n",
      " 12  Hashtags                     1000 non-null   object\n",
      " 13  Media                        1000 non-null   object\n",
      " 14  Coordinates                  22 non-null     object\n",
      " 15  Place                        22 non-null     object\n",
      " 16  Informative/Not Informative  998 non-null    object\n",
      "dtypes: Int16(5), Int64(3), object(9)\n",
      "memory usage: 111.5+ KB\n"
     ]
    }
   ],
   "source": [
    "unt_1.info()"
   ],
   "metadata": {
    "collapsed": false
   }
  },
  {
   "cell_type": "code",
   "execution_count": 34,
   "outputs": [
    {
     "name": "stdout",
     "output_type": "stream",
     "text": [
      "<class 'pandas.core.frame.DataFrame'>\n",
      "RangeIndex: 1000 entries, 0 to 999\n",
      "Data columns (total 17 columns):\n",
      " #   Column                       Non-Null Count  Dtype  \n",
      "---  ------                       --------------  -----  \n",
      " 0   Tweet Id                     1000 non-null   Int64  \n",
      " 1   Unnamed: 0                   1000 non-null   Int64  \n",
      " 2   Unnamed: 0.1                 1000 non-null   Int64  \n",
      " 3   Datetime                     1000 non-null   object \n",
      " 4   Raw content                  1000 non-null   object \n",
      " 5   Text                         1000 non-null   object \n",
      " 6   Username                     1000 non-null   object \n",
      " 7   Reply Count                  1000 non-null   Int16  \n",
      " 8   Retweet Count                1000 non-null   Int16  \n",
      " 9   Like Count                   1000 non-null   Int16  \n",
      " 10  Quote Count                  1000 non-null   Int16  \n",
      " 11  View Count                   0 non-null      Int16  \n",
      " 12  Hashtags                     1000 non-null   object \n",
      " 13  Media                        1000 non-null   object \n",
      " 14  Coordinates                  18 non-null     object \n",
      " 15  Place                        18 non-null     object \n",
      " 16  Informative/Not informative  994 non-null    float64\n",
      "dtypes: Int16(5), Int64(3), float64(1), object(8)\n",
      "memory usage: 111.5+ KB\n"
     ]
    }
   ],
   "source": [
    "unt_2.info()"
   ],
   "metadata": {
    "collapsed": false
   }
  },
  {
   "cell_type": "code",
   "execution_count": 35,
   "outputs": [],
   "source": [
    "unt_1 = unt_1[~unt_1['Tweet Id'].isin(crisisMMD['Tweet Id'])]"
   ],
   "metadata": {
    "collapsed": false
   }
  },
  {
   "cell_type": "code",
   "execution_count": 36,
   "outputs": [],
   "source": [
    "unt_2 = unt_2[~unt_2['Tweet Id'].isin(crisisMMD['Tweet Id'])]"
   ],
   "metadata": {
    "collapsed": false
   }
  },
  {
   "cell_type": "code",
   "execution_count": 37,
   "outputs": [],
   "source": [
    "unt_1 = unt_1.rename(columns={\"Informative/Not Informative\": \"text_info\"})"
   ],
   "metadata": {
    "collapsed": false
   }
  },
  {
   "cell_type": "code",
   "execution_count": 40,
   "outputs": [],
   "source": [
    "unt_2 = unt_2.rename(columns={\"Informative/Not informative\": \"text_info\"})"
   ],
   "metadata": {
    "collapsed": false
   }
  },
  {
   "cell_type": "code",
   "execution_count": 41,
   "outputs": [
    {
     "name": "stdout",
     "output_type": "stream",
     "text": [
      "<class 'pandas.core.frame.DataFrame'>\n",
      "Int64Index: 1000 entries, 0 to 999\n",
      "Data columns (total 17 columns):\n",
      " #   Column         Non-Null Count  Dtype  \n",
      "---  ------         --------------  -----  \n",
      " 0   Tweet Id       1000 non-null   Int64  \n",
      " 1   Unnamed: 0     1000 non-null   Int64  \n",
      " 2   Unnamed: 0.1   1000 non-null   Int64  \n",
      " 3   Datetime       1000 non-null   object \n",
      " 4   Raw content    1000 non-null   object \n",
      " 5   Text           1000 non-null   object \n",
      " 6   Username       1000 non-null   object \n",
      " 7   Reply Count    1000 non-null   Int16  \n",
      " 8   Retweet Count  1000 non-null   Int16  \n",
      " 9   Like Count     1000 non-null   Int16  \n",
      " 10  Quote Count    1000 non-null   Int16  \n",
      " 11  View Count     0 non-null      Int16  \n",
      " 12  Hashtags       1000 non-null   object \n",
      " 13  Media          1000 non-null   object \n",
      " 14  Coordinates    18 non-null     object \n",
      " 15  Place          18 non-null     object \n",
      " 16  text_info      994 non-null    float64\n",
      "dtypes: Int16(5), Int64(3), float64(1), object(8)\n",
      "memory usage: 119.1+ KB\n"
     ]
    }
   ],
   "source": [
    "unt_2.info()"
   ],
   "metadata": {
    "collapsed": false
   }
  },
  {
   "cell_type": "code",
   "execution_count": 42,
   "outputs": [],
   "source": [
    "df_merged = pd.concat([crisisMMD, unt_1])"
   ],
   "metadata": {
    "collapsed": false
   }
  },
  {
   "cell_type": "code",
   "execution_count": 43,
   "outputs": [],
   "source": [
    "df_merged = pd.concat([df_merged , unt_2])"
   ],
   "metadata": {
    "collapsed": false
   }
  },
  {
   "cell_type": "code",
   "execution_count": 44,
   "outputs": [],
   "source": [
    "df_merged = df_merged.drop('Unnamed: 0.1', axis=1)"
   ],
   "metadata": {
    "collapsed": false
   }
  },
  {
   "cell_type": "code",
   "execution_count": 45,
   "outputs": [],
   "source": [
    "df_merged['length'] = df_merged['Text'].apply(length)"
   ],
   "metadata": {
    "collapsed": false
   }
  },
  {
   "cell_type": "code",
   "execution_count": 46,
   "outputs": [
    {
     "name": "stdout",
     "output_type": "stream",
     "text": [
      "<class 'pandas.core.frame.DataFrame'>\n",
      "Int64Index: 5992 entries, 0 to 999\n",
      "Data columns (total 18 columns):\n",
      " #   Column         Non-Null Count  Dtype  \n",
      "---  ------         --------------  -----  \n",
      " 0   Unnamed: 0     5992 non-null   Int64  \n",
      " 1   Idx            3992 non-null   float64\n",
      " 2   Datetime       5992 non-null   object \n",
      " 3   Tweet Id       5992 non-null   Int64  \n",
      " 4   Raw content    5992 non-null   object \n",
      " 5   Text           5992 non-null   object \n",
      " 6   Username       5992 non-null   object \n",
      " 7   Reply Count    4917 non-null   Int16  \n",
      " 8   Retweet Count  5992 non-null   Int16  \n",
      " 9   Like Count     4917 non-null   Int16  \n",
      " 10  Quote Count    4917 non-null   Int16  \n",
      " 11  View Count     0 non-null      Int16  \n",
      " 12  Hashtags       4297 non-null   object \n",
      " 13  Media          4912 non-null   object \n",
      " 14  Coordinates    114 non-null    object \n",
      " 15  Place          114 non-null    object \n",
      " 16  length         5992 non-null   int64  \n",
      " 17  text_info      5984 non-null   object \n",
      "dtypes: Int16(5), Int64(2), float64(1), int64(1), object(9)\n",
      "memory usage: 754.9+ KB\n"
     ]
    }
   ],
   "source": [
    "df_merged.info()"
   ],
   "metadata": {
    "collapsed": false
   }
  },
  {
   "cell_type": "code",
   "execution_count": 47,
   "outputs": [],
   "source": [
    "df_merged = df_merged[df_merged['text_info'].notnull()]"
   ],
   "metadata": {
    "collapsed": false
   }
  },
  {
   "cell_type": "code",
   "execution_count": 49,
   "outputs": [
    {
     "name": "stdout",
     "output_type": "stream",
     "text": [
      "<class 'pandas.core.frame.DataFrame'>\n",
      "Int64Index: 5984 entries, 0 to 999\n",
      "Data columns (total 18 columns):\n",
      " #   Column         Non-Null Count  Dtype  \n",
      "---  ------         --------------  -----  \n",
      " 0   Unnamed: 0     5984 non-null   Int64  \n",
      " 1   Idx            3992 non-null   float64\n",
      " 2   Datetime       5984 non-null   object \n",
      " 3   Tweet Id       5984 non-null   Int64  \n",
      " 4   Raw content    5984 non-null   object \n",
      " 5   Text           5984 non-null   object \n",
      " 6   Username       5984 non-null   object \n",
      " 7   Reply Count    4909 non-null   Int16  \n",
      " 8   Retweet Count  5984 non-null   Int16  \n",
      " 9   Like Count     4909 non-null   Int16  \n",
      " 10  Quote Count    4909 non-null   Int16  \n",
      " 11  View Count     0 non-null      Int16  \n",
      " 12  Hashtags       4289 non-null   object \n",
      " 13  Media          4904 non-null   object \n",
      " 14  Coordinates    113 non-null    object \n",
      " 15  Place          113 non-null    object \n",
      " 16  length         5984 non-null   int64  \n",
      " 17  text_info      5984 non-null   object \n",
      "dtypes: Int16(5), Int64(2), float64(1), int64(1), object(9)\n",
      "memory usage: 753.8+ KB\n"
     ]
    }
   ],
   "source": [
    "df_merged.info()"
   ],
   "metadata": {
    "collapsed": false
   }
  },
  {
   "cell_type": "code",
   "execution_count": 7,
   "outputs": [],
   "source": [
    "df_UNT_small = df_UNT.sample(n=1000)"
   ],
   "metadata": {
    "collapsed": false
   }
  },
  {
   "cell_type": "code",
   "execution_count": 50,
   "outputs": [],
   "source": [
    "df_merged.to_csv(\"extended_dataset.csv\")"
   ],
   "metadata": {
    "collapsed": false
   }
  },
  {
   "cell_type": "code",
   "execution_count": 9,
   "outputs": [
    {
     "data": {
      "text/plain": "         Unnamed: 0  Unnamed: 0.1                   Datetime  \\\n3001548     3001548        642863  2017-08-31 05:37:25+00:00   \n1706187     1706187        514764  2017-08-28 16:18:21+00:00   \n2022325     2022325        251546  2017-08-29 03:32:57+00:00   \n3267810     3267810        909125  2017-09-01 03:55:55+00:00   \n1263466     1263466         72043  2017-08-27 21:08:11+00:00   \n...             ...           ...                        ...   \n2616809     2616809        258124  2017-08-30 09:20:23+00:00   \n1265614     1265614         74191  2017-08-27 21:11:22+00:00   \n2500764     2500764        142079  2017-08-30 02:10:24+00:00   \n604858       604858        604858  2017-08-26 04:16:37+00:00   \n2099602     2099602        328823  2017-08-29 11:16:38+00:00   \n\n                   Tweet Id  \\\n3001548  903129578217979904   \n1706187  902203711665168384   \n2022325  902373481295347712   \n3267810  903466424227811328   \n1263466  901914261953314817   \n...                     ...   \n2616809  902823303022346240   \n1265614  901915064751583232   \n2500764  902715092281806848   \n604858   901297305286057984   \n2099602  902490168216752128   \n\n                                               Raw content  \\\n3001548  Kudos to the first responders and to all of ci...   \n1706187  RT @imlejanea: 5300 s. Lake Houston Pkwy. \\n#h...   \n2022325  Those poor people in Houston. If only there wa...   \n3267810  RT @CNN: Satellite images show #Harvey's impac...   \n1263466  RT @PaulFox13: This is insane. #houstonflood h...   \n...                                                    ...   \n2616809  RT @CNN: Fire destroyed a family's home during...   \n1265614  Update: My street hasn't had power since yeste...   \n2500764  RT @HCSOTexas: So many have asked. Here's volu...   \n604858   RT @EpiscopalRelief: Continue to pray for ever...   \n2099602  RT @itsKARY_: The interviews during #Hurricane...   \n\n                                                      Text        Username  \\\n3001548  Kudos to the first responders and to all of ci...  CoachGallimore   \n1706187  RT @imlejanea: 5300 s. Lake Houston Pkwy. \\n#h...          xwynn_   \n2022325  Those poor people in Houston. If only there wa...    charley_ck14   \n3267810  RT @CNN: Satellite images show #Harvey's impac...     BrentGarrow   \n1263466  RT @PaulFox13: This is insane. #houstonflood h...     TamaraSedai   \n...                                                    ...             ...   \n2616809  RT @CNN: Fire destroyed a family's home during...   katarzyna1401   \n1265614  Update: My street hasn't had power since yeste...     samcbranson   \n2500764  RT @HCSOTexas: So many have asked. Here's volu...        hobbyath   \n604858   RT @EpiscopalRelief: Continue to pray for ever...   StAnnes_Annap   \n2099602  RT @itsKARY_: The interviews during #Hurricane...       Onicaaaaa   \n\n         Reply Count  Retweet Count  Like Count  Quote Count  View Count  \\\n3001548            0              3          13            0         NaN   \n1706187            0            123           0            0         NaN   \n2022325            0              6          14            1         NaN   \n3267810            0            386           0            0         NaN   \n1263466            0           9670           0            0         NaN   \n...              ...            ...         ...          ...         ...   \n2616809            0            874           0            0         NaN   \n1265614            1              0           1            0         NaN   \n2500764            0           4360           0            0         NaN   \n604858             0             14           0            0         NaN   \n2099602            0           2927           0            0         NaN   \n\n                                         Hashtags  \\\n3001548                                ['Harvey']   \n1706187       ['houstonflood', 'HurricaneHarvey']   \n2022325           ['JoelOsteen', 'HoustonFloods']   \n3267810                                ['Harvey']   \n1263466                          ['houstonflood']   \n...                                           ...   \n2616809                                ['Harvey']   \n1265614                       ['hurricaneharvey']   \n2500764  ['harvey', 'hounews', 'HurricaneHarvey']   \n604858                        ['HurricaneHarvey']   \n2099602                       ['HurricaneHarvey']   \n\n                                                     Media  \\\n3001548  [Photo(previewUrl='https://pbs.twimg.com/media...   \n1706187  [Photo(previewUrl='https://pbs.twimg.com/media...   \n2022325  [Photo(previewUrl='https://pbs.twimg.com/media...   \n3267810  [Gif(thumbnailUrl='https://pbs.twimg.com/tweet...   \n1263466  [Photo(previewUrl='https://pbs.twimg.com/media...   \n...                                                    ...   \n2616809  [Photo(previewUrl='https://pbs.twimg.com/media...   \n1265614  [Photo(previewUrl='https://pbs.twimg.com/media...   \n2500764  [Photo(previewUrl='https://pbs.twimg.com/media...   \n604858   [Photo(previewUrl='https://pbs.twimg.com/media...   \n2099602  [Video(thumbnailUrl='https://pbs.twimg.com/ext...   \n\n                                               Coordinates  \\\n3001548                                                NaN   \n1706187                                                NaN   \n2022325                                                NaN   \n3267810                                                NaN   \n1263466                                                NaN   \n...                                                    ...   \n2616809                                                NaN   \n1265614  Coordinates(longitude=-97.928935, latitude=30....   \n2500764                                                NaN   \n604858                                                 NaN   \n2099602                                                NaN   \n\n                                                     Place  \n3001548                                                NaN  \n1706187                                                NaN  \n2022325                                                NaN  \n3267810                                                NaN  \n1263466                                                NaN  \n...                                                    ...  \n2616809                                                NaN  \n1265614  Place(id='c3f37afa9efcf94b', fullName='Austin,...  \n2500764                                                NaN  \n604858                                                 NaN  \n2099602                                                NaN  \n\n[1000 rows x 16 columns]",
      "text/html": "<div>\n<style scoped>\n    .dataframe tbody tr th:only-of-type {\n        vertical-align: middle;\n    }\n\n    .dataframe tbody tr th {\n        vertical-align: top;\n    }\n\n    .dataframe thead th {\n        text-align: right;\n    }\n</style>\n<table border=\"1\" class=\"dataframe\">\n  <thead>\n    <tr style=\"text-align: right;\">\n      <th></th>\n      <th>Unnamed: 0</th>\n      <th>Unnamed: 0.1</th>\n      <th>Datetime</th>\n      <th>Tweet Id</th>\n      <th>Raw content</th>\n      <th>Text</th>\n      <th>Username</th>\n      <th>Reply Count</th>\n      <th>Retweet Count</th>\n      <th>Like Count</th>\n      <th>Quote Count</th>\n      <th>View Count</th>\n      <th>Hashtags</th>\n      <th>Media</th>\n      <th>Coordinates</th>\n      <th>Place</th>\n    </tr>\n  </thead>\n  <tbody>\n    <tr>\n      <th>3001548</th>\n      <td>3001548</td>\n      <td>642863</td>\n      <td>2017-08-31 05:37:25+00:00</td>\n      <td>903129578217979904</td>\n      <td>Kudos to the first responders and to all of ci...</td>\n      <td>Kudos to the first responders and to all of ci...</td>\n      <td>CoachGallimore</td>\n      <td>0</td>\n      <td>3</td>\n      <td>13</td>\n      <td>0</td>\n      <td>NaN</td>\n      <td>['Harvey']</td>\n      <td>[Photo(previewUrl='https://pbs.twimg.com/media...</td>\n      <td>NaN</td>\n      <td>NaN</td>\n    </tr>\n    <tr>\n      <th>1706187</th>\n      <td>1706187</td>\n      <td>514764</td>\n      <td>2017-08-28 16:18:21+00:00</td>\n      <td>902203711665168384</td>\n      <td>RT @imlejanea: 5300 s. Lake Houston Pkwy. \\n#h...</td>\n      <td>RT @imlejanea: 5300 s. Lake Houston Pkwy. \\n#h...</td>\n      <td>xwynn_</td>\n      <td>0</td>\n      <td>123</td>\n      <td>0</td>\n      <td>0</td>\n      <td>NaN</td>\n      <td>['houstonflood', 'HurricaneHarvey']</td>\n      <td>[Photo(previewUrl='https://pbs.twimg.com/media...</td>\n      <td>NaN</td>\n      <td>NaN</td>\n    </tr>\n    <tr>\n      <th>2022325</th>\n      <td>2022325</td>\n      <td>251546</td>\n      <td>2017-08-29 03:32:57+00:00</td>\n      <td>902373481295347712</td>\n      <td>Those poor people in Houston. If only there wa...</td>\n      <td>Those poor people in Houston. If only there wa...</td>\n      <td>charley_ck14</td>\n      <td>0</td>\n      <td>6</td>\n      <td>14</td>\n      <td>1</td>\n      <td>NaN</td>\n      <td>['JoelOsteen', 'HoustonFloods']</td>\n      <td>[Photo(previewUrl='https://pbs.twimg.com/media...</td>\n      <td>NaN</td>\n      <td>NaN</td>\n    </tr>\n    <tr>\n      <th>3267810</th>\n      <td>3267810</td>\n      <td>909125</td>\n      <td>2017-09-01 03:55:55+00:00</td>\n      <td>903466424227811328</td>\n      <td>RT @CNN: Satellite images show #Harvey's impac...</td>\n      <td>RT @CNN: Satellite images show #Harvey's impac...</td>\n      <td>BrentGarrow</td>\n      <td>0</td>\n      <td>386</td>\n      <td>0</td>\n      <td>0</td>\n      <td>NaN</td>\n      <td>['Harvey']</td>\n      <td>[Gif(thumbnailUrl='https://pbs.twimg.com/tweet...</td>\n      <td>NaN</td>\n      <td>NaN</td>\n    </tr>\n    <tr>\n      <th>1263466</th>\n      <td>1263466</td>\n      <td>72043</td>\n      <td>2017-08-27 21:08:11+00:00</td>\n      <td>901914261953314817</td>\n      <td>RT @PaulFox13: This is insane. #houstonflood h...</td>\n      <td>RT @PaulFox13: This is insane. #houstonflood h...</td>\n      <td>TamaraSedai</td>\n      <td>0</td>\n      <td>9670</td>\n      <td>0</td>\n      <td>0</td>\n      <td>NaN</td>\n      <td>['houstonflood']</td>\n      <td>[Photo(previewUrl='https://pbs.twimg.com/media...</td>\n      <td>NaN</td>\n      <td>NaN</td>\n    </tr>\n    <tr>\n      <th>...</th>\n      <td>...</td>\n      <td>...</td>\n      <td>...</td>\n      <td>...</td>\n      <td>...</td>\n      <td>...</td>\n      <td>...</td>\n      <td>...</td>\n      <td>...</td>\n      <td>...</td>\n      <td>...</td>\n      <td>...</td>\n      <td>...</td>\n      <td>...</td>\n      <td>...</td>\n      <td>...</td>\n    </tr>\n    <tr>\n      <th>2616809</th>\n      <td>2616809</td>\n      <td>258124</td>\n      <td>2017-08-30 09:20:23+00:00</td>\n      <td>902823303022346240</td>\n      <td>RT @CNN: Fire destroyed a family's home during...</td>\n      <td>RT @CNN: Fire destroyed a family's home during...</td>\n      <td>katarzyna1401</td>\n      <td>0</td>\n      <td>874</td>\n      <td>0</td>\n      <td>0</td>\n      <td>NaN</td>\n      <td>['Harvey']</td>\n      <td>[Photo(previewUrl='https://pbs.twimg.com/media...</td>\n      <td>NaN</td>\n      <td>NaN</td>\n    </tr>\n    <tr>\n      <th>1265614</th>\n      <td>1265614</td>\n      <td>74191</td>\n      <td>2017-08-27 21:11:22+00:00</td>\n      <td>901915064751583232</td>\n      <td>Update: My street hasn't had power since yeste...</td>\n      <td>Update: My street hasn't had power since yeste...</td>\n      <td>samcbranson</td>\n      <td>1</td>\n      <td>0</td>\n      <td>1</td>\n      <td>0</td>\n      <td>NaN</td>\n      <td>['hurricaneharvey']</td>\n      <td>[Photo(previewUrl='https://pbs.twimg.com/media...</td>\n      <td>Coordinates(longitude=-97.928935, latitude=30....</td>\n      <td>Place(id='c3f37afa9efcf94b', fullName='Austin,...</td>\n    </tr>\n    <tr>\n      <th>2500764</th>\n      <td>2500764</td>\n      <td>142079</td>\n      <td>2017-08-30 02:10:24+00:00</td>\n      <td>902715092281806848</td>\n      <td>RT @HCSOTexas: So many have asked. Here's volu...</td>\n      <td>RT @HCSOTexas: So many have asked. Here's volu...</td>\n      <td>hobbyath</td>\n      <td>0</td>\n      <td>4360</td>\n      <td>0</td>\n      <td>0</td>\n      <td>NaN</td>\n      <td>['harvey', 'hounews', 'HurricaneHarvey']</td>\n      <td>[Photo(previewUrl='https://pbs.twimg.com/media...</td>\n      <td>NaN</td>\n      <td>NaN</td>\n    </tr>\n    <tr>\n      <th>604858</th>\n      <td>604858</td>\n      <td>604858</td>\n      <td>2017-08-26 04:16:37+00:00</td>\n      <td>901297305286057984</td>\n      <td>RT @EpiscopalRelief: Continue to pray for ever...</td>\n      <td>RT @EpiscopalRelief: Continue to pray for ever...</td>\n      <td>StAnnes_Annap</td>\n      <td>0</td>\n      <td>14</td>\n      <td>0</td>\n      <td>0</td>\n      <td>NaN</td>\n      <td>['HurricaneHarvey']</td>\n      <td>[Photo(previewUrl='https://pbs.twimg.com/media...</td>\n      <td>NaN</td>\n      <td>NaN</td>\n    </tr>\n    <tr>\n      <th>2099602</th>\n      <td>2099602</td>\n      <td>328823</td>\n      <td>2017-08-29 11:16:38+00:00</td>\n      <td>902490168216752128</td>\n      <td>RT @itsKARY_: The interviews during #Hurricane...</td>\n      <td>RT @itsKARY_: The interviews during #Hurricane...</td>\n      <td>Onicaaaaa</td>\n      <td>0</td>\n      <td>2927</td>\n      <td>0</td>\n      <td>0</td>\n      <td>NaN</td>\n      <td>['HurricaneHarvey']</td>\n      <td>[Video(thumbnailUrl='https://pbs.twimg.com/ext...</td>\n      <td>NaN</td>\n      <td>NaN</td>\n    </tr>\n  </tbody>\n</table>\n<p>1000 rows × 16 columns</p>\n</div>"
     },
     "execution_count": 9,
     "metadata": {},
     "output_type": "execute_result"
    }
   ],
   "source": [
    "df_UNT_small"
   ],
   "metadata": {
    "collapsed": false
   }
  },
  {
   "cell_type": "code",
   "execution_count": 12,
   "outputs": [],
   "source": [
    "text = list(df_UNT['Text'])"
   ],
   "metadata": {
    "collapsed": false
   }
  },
  {
   "cell_type": "code",
   "execution_count": 13,
   "outputs": [],
   "source": [
    "d = {}"
   ],
   "metadata": {
    "collapsed": false
   }
  },
  {
   "cell_type": "code",
   "execution_count": 14,
   "outputs": [],
   "source": [
    "def get_url_from_csv_cell(cell_content:str):\n",
    "    return re.findall('.\\'([^\\']*)name=orig\\'.', cell_content)[-1] + \"name=orig\""
   ],
   "metadata": {
    "collapsed": false
   }
  },
  {
   "cell_type": "code",
   "execution_count": 15,
   "outputs": [],
   "source": [
    "def get_url_from_csv_cell_2(cell_content:str):\n",
    "    return re.findall('.\\'([^\\']*).jpg\\'.', cell_content)[-1] + \".jpg\""
   ],
   "metadata": {
    "collapsed": false
   }
  },
  {
   "cell_type": "code",
   "execution_count": 16,
   "outputs": [],
   "source": [
    "def get_url_from_csv_cell_3(cell_content:str):\n",
    "    return re.findall('.\\'([^\\']*).png\\'.', cell_content)[-1] + \".png\""
   ],
   "metadata": {
    "collapsed": false
   }
  },
  {
   "cell_type": "code",
   "execution_count": 17,
   "outputs": [],
   "source": [
    "def get_filename_from_url(url:str):\n",
    "    try:\n",
    "        filename = re.search('.media/([^\\']*)\\?.',url).group(1) + \".\" + re.search('.format=([^\\']*)&.',url).group(1)\n",
    "    except:\n",
    "        try:\n",
    "             filename = re.search(r'/media/([^-.]+\\.*[^.]+\\.[^.]+)$',url).group(1)\n",
    "        except:\n",
    "            try:\n",
    "                filename = re.search('.video_thumb/(.*).jpg',url).group(0)\n",
    "            except:\n",
    "                print(url)\n",
    "\n",
    "    return filename"
   ],
   "metadata": {
    "collapsed": false
   }
  },
  {
   "cell_type": "code",
   "execution_count": 18,
   "outputs": [],
   "source": [
    "import re\n",
    "import tqdm\n",
    "\n",
    "d = {}\n",
    "\n",
    "\"\"\"for index, row in tqdm.tqdm(df_UNT.iterrows()):\n",
    "\n",
    "    try:\n",
    "        urls = ast.literal_eval(row['Media'])\n",
    "    except:\n",
    "        try:\n",
    "            urls = [get_url_from_csv_cell(row['Media'])]\n",
    "        except:\n",
    "            try:\n",
    "                urls = [get_url_from_csv_cell_2(row['Media'])]\n",
    "            except:\n",
    "                urls = [get_url_from_csv_cell_3(row['Media'])]\n",
    "\n",
    "    d[row['Text']] = {\n",
    "        'urls': urls,\n",
    "        'filenames': [get_filename_from_url(url) for url in urls]\n",
    "    }\"\"\"\n",
    "\n",
    "def fix_media_field(entry):\n",
    "    try:\n",
    "        urls = ast.literal_eval(entry)\n",
    "    except:\n",
    "        try:\n",
    "            urls = [get_url_from_csv_cell(entry)]\n",
    "        except:\n",
    "            try:\n",
    "                urls = [get_url_from_csv_cell_2(entry)]\n",
    "            except:\n",
    "                urls = [get_url_from_csv_cell_3(entry)]\n",
    "\n",
    "    return urls[0]"
   ],
   "metadata": {
    "collapsed": false
   }
  },
  {
   "cell_type": "code",
   "execution_count": 19,
   "outputs": [],
   "source": [
    "df_UNT_small['Media'] = df_UNT_small['Media'].apply(lambda x: fix_media_field(x))"
   ],
   "metadata": {
    "collapsed": false
   }
  },
  {
   "cell_type": "code",
   "execution_count": 20,
   "outputs": [
    {
     "data": {
      "text/plain": "         Unnamed: 0  Unnamed: 0.1                   Datetime  \\\n3001548     3001548        642863  2017-08-31 05:37:25+00:00   \n1706187     1706187        514764  2017-08-28 16:18:21+00:00   \n2022325     2022325        251546  2017-08-29 03:32:57+00:00   \n3267810     3267810        909125  2017-09-01 03:55:55+00:00   \n1263466     1263466         72043  2017-08-27 21:08:11+00:00   \n...             ...           ...                        ...   \n2616809     2616809        258124  2017-08-30 09:20:23+00:00   \n1265614     1265614         74191  2017-08-27 21:11:22+00:00   \n2500764     2500764        142079  2017-08-30 02:10:24+00:00   \n604858       604858        604858  2017-08-26 04:16:37+00:00   \n2099602     2099602        328823  2017-08-29 11:16:38+00:00   \n\n                   Tweet Id  \\\n3001548  903129578217979904   \n1706187  902203711665168384   \n2022325  902373481295347712   \n3267810  903466424227811328   \n1263466  901914261953314817   \n...                     ...   \n2616809  902823303022346240   \n1265614  901915064751583232   \n2500764  902715092281806848   \n604858   901297305286057984   \n2099602  902490168216752128   \n\n                                               Raw content  \\\n3001548  Kudos to the first responders and to all of ci...   \n1706187  RT @imlejanea: 5300 s. Lake Houston Pkwy. \\n#h...   \n2022325  Those poor people in Houston. If only there wa...   \n3267810  RT @CNN: Satellite images show #Harvey's impac...   \n1263466  RT @PaulFox13: This is insane. #houstonflood h...   \n...                                                    ...   \n2616809  RT @CNN: Fire destroyed a family's home during...   \n1265614  Update: My street hasn't had power since yeste...   \n2500764  RT @HCSOTexas: So many have asked. Here's volu...   \n604858   RT @EpiscopalRelief: Continue to pray for ever...   \n2099602  RT @itsKARY_: The interviews during #Hurricane...   \n\n                                                      Text        Username  \\\n3001548  Kudos to the first responders and to all of ci...  CoachGallimore   \n1706187  RT @imlejanea: 5300 s. Lake Houston Pkwy. \\n#h...          xwynn_   \n2022325  Those poor people in Houston. If only there wa...    charley_ck14   \n3267810  RT @CNN: Satellite images show #Harvey's impac...     BrentGarrow   \n1263466  RT @PaulFox13: This is insane. #houstonflood h...     TamaraSedai   \n...                                                    ...             ...   \n2616809  RT @CNN: Fire destroyed a family's home during...   katarzyna1401   \n1265614  Update: My street hasn't had power since yeste...     samcbranson   \n2500764  RT @HCSOTexas: So many have asked. Here's volu...        hobbyath   \n604858   RT @EpiscopalRelief: Continue to pray for ever...   StAnnes_Annap   \n2099602  RT @itsKARY_: The interviews during #Hurricane...       Onicaaaaa   \n\n         Reply Count  Retweet Count  Like Count  Quote Count  View Count  \\\n3001548            0              3          13            0         NaN   \n1706187            0            123           0            0         NaN   \n2022325            0              6          14            1         NaN   \n3267810            0            386           0            0         NaN   \n1263466            0           9670           0            0         NaN   \n...              ...            ...         ...          ...         ...   \n2616809            0            874           0            0         NaN   \n1265614            1              0           1            0         NaN   \n2500764            0           4360           0            0         NaN   \n604858             0             14           0            0         NaN   \n2099602            0           2927           0            0         NaN   \n\n                                         Hashtags  \\\n3001548                                ['Harvey']   \n1706187       ['houstonflood', 'HurricaneHarvey']   \n2022325           ['JoelOsteen', 'HoustonFloods']   \n3267810                                ['Harvey']   \n1263466                          ['houstonflood']   \n...                                           ...   \n2616809                                ['Harvey']   \n1265614                       ['hurricaneharvey']   \n2500764  ['harvey', 'hounews', 'HurricaneHarvey']   \n604858                        ['HurricaneHarvey']   \n2099602                       ['HurricaneHarvey']   \n\n                                                     Media  \\\n3001548  https://pbs.twimg.com/media/DIiPbBPUIAACXKt?fo...   \n1706187  https://pbs.twimg.com/media/DIVAGxbUwAAjv1T?fo...   \n2022325  https://pbs.twimg.com/media/DIXfYXEUIAEIXli?fo...   \n3267810  https://pbs.twimg.com/tweet_video_thumb/DInAaO...   \n1263466  https://pbs.twimg.com/media/DIQcNTJWAAAyx5a?fo...   \n...                                                    ...   \n2616809  https://pbs.twimg.com/media/DIXpxbOUMAAkG2I?fo...   \n1265614  https://pbs.twimg.com/media/DIQ-9s-UIAAYEn2?fo...   \n2500764  https://pbs.twimg.com/media/DIXpuREVAAAX11v?fo...   \n604858   https://pbs.twimg.com/media/DIHh9UIVwAAvslF?fo...   \n2099602  https://pbs.twimg.com/ext_tw_video_thumb/90192...   \n\n                                               Coordinates  \\\n3001548                                                NaN   \n1706187                                                NaN   \n2022325                                                NaN   \n3267810                                                NaN   \n1263466                                                NaN   \n...                                                    ...   \n2616809                                                NaN   \n1265614  Coordinates(longitude=-97.928935, latitude=30....   \n2500764                                                NaN   \n604858                                                 NaN   \n2099602                                                NaN   \n\n                                                     Place  \n3001548                                                NaN  \n1706187                                                NaN  \n2022325                                                NaN  \n3267810                                                NaN  \n1263466                                                NaN  \n...                                                    ...  \n2616809                                                NaN  \n1265614  Place(id='c3f37afa9efcf94b', fullName='Austin,...  \n2500764                                                NaN  \n604858                                                 NaN  \n2099602                                                NaN  \n\n[1000 rows x 16 columns]",
      "text/html": "<div>\n<style scoped>\n    .dataframe tbody tr th:only-of-type {\n        vertical-align: middle;\n    }\n\n    .dataframe tbody tr th {\n        vertical-align: top;\n    }\n\n    .dataframe thead th {\n        text-align: right;\n    }\n</style>\n<table border=\"1\" class=\"dataframe\">\n  <thead>\n    <tr style=\"text-align: right;\">\n      <th></th>\n      <th>Unnamed: 0</th>\n      <th>Unnamed: 0.1</th>\n      <th>Datetime</th>\n      <th>Tweet Id</th>\n      <th>Raw content</th>\n      <th>Text</th>\n      <th>Username</th>\n      <th>Reply Count</th>\n      <th>Retweet Count</th>\n      <th>Like Count</th>\n      <th>Quote Count</th>\n      <th>View Count</th>\n      <th>Hashtags</th>\n      <th>Media</th>\n      <th>Coordinates</th>\n      <th>Place</th>\n    </tr>\n  </thead>\n  <tbody>\n    <tr>\n      <th>3001548</th>\n      <td>3001548</td>\n      <td>642863</td>\n      <td>2017-08-31 05:37:25+00:00</td>\n      <td>903129578217979904</td>\n      <td>Kudos to the first responders and to all of ci...</td>\n      <td>Kudos to the first responders and to all of ci...</td>\n      <td>CoachGallimore</td>\n      <td>0</td>\n      <td>3</td>\n      <td>13</td>\n      <td>0</td>\n      <td>NaN</td>\n      <td>['Harvey']</td>\n      <td>https://pbs.twimg.com/media/DIiPbBPUIAACXKt?fo...</td>\n      <td>NaN</td>\n      <td>NaN</td>\n    </tr>\n    <tr>\n      <th>1706187</th>\n      <td>1706187</td>\n      <td>514764</td>\n      <td>2017-08-28 16:18:21+00:00</td>\n      <td>902203711665168384</td>\n      <td>RT @imlejanea: 5300 s. Lake Houston Pkwy. \\n#h...</td>\n      <td>RT @imlejanea: 5300 s. Lake Houston Pkwy. \\n#h...</td>\n      <td>xwynn_</td>\n      <td>0</td>\n      <td>123</td>\n      <td>0</td>\n      <td>0</td>\n      <td>NaN</td>\n      <td>['houstonflood', 'HurricaneHarvey']</td>\n      <td>https://pbs.twimg.com/media/DIVAGxbUwAAjv1T?fo...</td>\n      <td>NaN</td>\n      <td>NaN</td>\n    </tr>\n    <tr>\n      <th>2022325</th>\n      <td>2022325</td>\n      <td>251546</td>\n      <td>2017-08-29 03:32:57+00:00</td>\n      <td>902373481295347712</td>\n      <td>Those poor people in Houston. If only there wa...</td>\n      <td>Those poor people in Houston. If only there wa...</td>\n      <td>charley_ck14</td>\n      <td>0</td>\n      <td>6</td>\n      <td>14</td>\n      <td>1</td>\n      <td>NaN</td>\n      <td>['JoelOsteen', 'HoustonFloods']</td>\n      <td>https://pbs.twimg.com/media/DIXfYXEUIAEIXli?fo...</td>\n      <td>NaN</td>\n      <td>NaN</td>\n    </tr>\n    <tr>\n      <th>3267810</th>\n      <td>3267810</td>\n      <td>909125</td>\n      <td>2017-09-01 03:55:55+00:00</td>\n      <td>903466424227811328</td>\n      <td>RT @CNN: Satellite images show #Harvey's impac...</td>\n      <td>RT @CNN: Satellite images show #Harvey's impac...</td>\n      <td>BrentGarrow</td>\n      <td>0</td>\n      <td>386</td>\n      <td>0</td>\n      <td>0</td>\n      <td>NaN</td>\n      <td>['Harvey']</td>\n      <td>https://pbs.twimg.com/tweet_video_thumb/DInAaO...</td>\n      <td>NaN</td>\n      <td>NaN</td>\n    </tr>\n    <tr>\n      <th>1263466</th>\n      <td>1263466</td>\n      <td>72043</td>\n      <td>2017-08-27 21:08:11+00:00</td>\n      <td>901914261953314817</td>\n      <td>RT @PaulFox13: This is insane. #houstonflood h...</td>\n      <td>RT @PaulFox13: This is insane. #houstonflood h...</td>\n      <td>TamaraSedai</td>\n      <td>0</td>\n      <td>9670</td>\n      <td>0</td>\n      <td>0</td>\n      <td>NaN</td>\n      <td>['houstonflood']</td>\n      <td>https://pbs.twimg.com/media/DIQcNTJWAAAyx5a?fo...</td>\n      <td>NaN</td>\n      <td>NaN</td>\n    </tr>\n    <tr>\n      <th>...</th>\n      <td>...</td>\n      <td>...</td>\n      <td>...</td>\n      <td>...</td>\n      <td>...</td>\n      <td>...</td>\n      <td>...</td>\n      <td>...</td>\n      <td>...</td>\n      <td>...</td>\n      <td>...</td>\n      <td>...</td>\n      <td>...</td>\n      <td>...</td>\n      <td>...</td>\n      <td>...</td>\n    </tr>\n    <tr>\n      <th>2616809</th>\n      <td>2616809</td>\n      <td>258124</td>\n      <td>2017-08-30 09:20:23+00:00</td>\n      <td>902823303022346240</td>\n      <td>RT @CNN: Fire destroyed a family's home during...</td>\n      <td>RT @CNN: Fire destroyed a family's home during...</td>\n      <td>katarzyna1401</td>\n      <td>0</td>\n      <td>874</td>\n      <td>0</td>\n      <td>0</td>\n      <td>NaN</td>\n      <td>['Harvey']</td>\n      <td>https://pbs.twimg.com/media/DIXpxbOUMAAkG2I?fo...</td>\n      <td>NaN</td>\n      <td>NaN</td>\n    </tr>\n    <tr>\n      <th>1265614</th>\n      <td>1265614</td>\n      <td>74191</td>\n      <td>2017-08-27 21:11:22+00:00</td>\n      <td>901915064751583232</td>\n      <td>Update: My street hasn't had power since yeste...</td>\n      <td>Update: My street hasn't had power since yeste...</td>\n      <td>samcbranson</td>\n      <td>1</td>\n      <td>0</td>\n      <td>1</td>\n      <td>0</td>\n      <td>NaN</td>\n      <td>['hurricaneharvey']</td>\n      <td>https://pbs.twimg.com/media/DIQ-9s-UIAAYEn2?fo...</td>\n      <td>Coordinates(longitude=-97.928935, latitude=30....</td>\n      <td>Place(id='c3f37afa9efcf94b', fullName='Austin,...</td>\n    </tr>\n    <tr>\n      <th>2500764</th>\n      <td>2500764</td>\n      <td>142079</td>\n      <td>2017-08-30 02:10:24+00:00</td>\n      <td>902715092281806848</td>\n      <td>RT @HCSOTexas: So many have asked. Here's volu...</td>\n      <td>RT @HCSOTexas: So many have asked. Here's volu...</td>\n      <td>hobbyath</td>\n      <td>0</td>\n      <td>4360</td>\n      <td>0</td>\n      <td>0</td>\n      <td>NaN</td>\n      <td>['harvey', 'hounews', 'HurricaneHarvey']</td>\n      <td>https://pbs.twimg.com/media/DIXpuREVAAAX11v?fo...</td>\n      <td>NaN</td>\n      <td>NaN</td>\n    </tr>\n    <tr>\n      <th>604858</th>\n      <td>604858</td>\n      <td>604858</td>\n      <td>2017-08-26 04:16:37+00:00</td>\n      <td>901297305286057984</td>\n      <td>RT @EpiscopalRelief: Continue to pray for ever...</td>\n      <td>RT @EpiscopalRelief: Continue to pray for ever...</td>\n      <td>StAnnes_Annap</td>\n      <td>0</td>\n      <td>14</td>\n      <td>0</td>\n      <td>0</td>\n      <td>NaN</td>\n      <td>['HurricaneHarvey']</td>\n      <td>https://pbs.twimg.com/media/DIHh9UIVwAAvslF?fo...</td>\n      <td>NaN</td>\n      <td>NaN</td>\n    </tr>\n    <tr>\n      <th>2099602</th>\n      <td>2099602</td>\n      <td>328823</td>\n      <td>2017-08-29 11:16:38+00:00</td>\n      <td>902490168216752128</td>\n      <td>RT @itsKARY_: The interviews during #Hurricane...</td>\n      <td>RT @itsKARY_: The interviews during #Hurricane...</td>\n      <td>Onicaaaaa</td>\n      <td>0</td>\n      <td>2927</td>\n      <td>0</td>\n      <td>0</td>\n      <td>NaN</td>\n      <td>['HurricaneHarvey']</td>\n      <td>https://pbs.twimg.com/ext_tw_video_thumb/90192...</td>\n      <td>NaN</td>\n      <td>NaN</td>\n    </tr>\n  </tbody>\n</table>\n<p>1000 rows × 16 columns</p>\n</div>"
     },
     "execution_count": 20,
     "metadata": {},
     "output_type": "execute_result"
    }
   ],
   "source": [
    "df_UNT_small"
   ],
   "metadata": {
    "collapsed": false
   }
  }
 ],
 "metadata": {
  "kernelspec": {
   "display_name": "Python 3",
   "language": "python",
   "name": "python3"
  },
  "language_info": {
   "codemirror_mode": {
    "name": "ipython",
    "version": 2
   },
   "file_extension": ".py",
   "mimetype": "text/x-python",
   "name": "python",
   "nbconvert_exporter": "python",
   "pygments_lexer": "ipython2",
   "version": "2.7.6"
  }
 },
 "nbformat": 4,
 "nbformat_minor": 0
}
