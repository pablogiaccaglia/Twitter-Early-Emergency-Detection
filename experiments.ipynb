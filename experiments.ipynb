{
 "cells": [
  {
   "cell_type": "code",
   "execution_count": 1,
   "metadata": {
    "collapsed": true
   },
   "outputs": [],
   "source": [
    "import pandas as pd"
   ]
  },
  {
   "cell_type": "code",
   "execution_count": 6,
   "outputs": [],
   "source": [
    "df = pd.read_csv(\"UNT_dataset_200k_400k.csv\", low_memory=False, lineterminator='\\n')"
   ],
   "metadata": {
    "collapsed": false
   }
  },
  {
   "cell_type": "code",
   "execution_count": 7,
   "outputs": [
    {
     "data": {
      "text/plain": "        Unnamed: 0                   Datetime            Tweet Id  \\\n0                0  2017-09-03 00:50:00+00:00  904144412770480133   \n1                1  2017-08-28 17:53:42+00:00  902227705805938689   \n2                2  2017-08-27 13:27:14+00:00  901798262176448512   \n3                3  2017-08-27 16:24:13+00:00  901842801557508097   \n4                4  2017-08-30 17:09:36+00:00  902941384025542656   \n...            ...                        ...                 ...   \n116712      116712  2017-08-31 17:26:46+00:00  903308090858233857   \n116713      116713  2017-09-09 21:59:42+00:00  906638266895609856   \n116714      116714  2017-09-02 02:33:05+00:00  903807966674956288   \n116715      116715  2017-08-29 18:59:26+00:00  902606638565265408   \n116716      116716  2017-08-24 01:50:43+00:00  900535814324498432   \n\n                                              Raw content  \\\n0       Venezolano relata cómo la comunidad en Texas s...   \n1       RT @JMilesKHOU: At Scholes Airport in Galvesto...   \n2       RT @realDonaldTrump: Wow - Now experts are cal...   \n3       RT @danholley_: Devastating images from #Houst...   \n4       RT @WBTravelPillow: Blankets are on the way to...   \n...                                                   ...   \n116712  RT @ColorinColorado: Our #HurricaneHarvey reso...   \n116713  RT @musicaustin: Music for a great cause today...   \n116714  RT @FLOTUS: I met w @RedCross @SalvationArmyUS...   \n116715  RT @ProgressTX: A reminder to @realDonaldTrump...   \n116716  RT @EricHolthaus: #Harvey is the kind of storm...   \n\n                                                     Text         Username  \\\n0       Venezolano relata cómo la comunidad en Texas s...     EfectoCocuyo   \n1       RT @JMilesKHOU: At Scholes Airport in Galvesto...          bluej02   \n2       RT @realDonaldTrump: Wow - Now experts are cal...         inkiel26   \n3       RT @danholley_: Devastating images from #Houst...       littletlxj   \n4       RT @WBTravelPillow: Blankets are on the way to...       mc_coldman   \n...                                                   ...              ...   \n116712  RT @ColorinColorado: Our #HurricaneHarvey reso...      armstrongvi   \n116713  RT @musicaustin: Music for a great cause today...  NicArmstrongXXX   \n116714  RT @FLOTUS: I met w @RedCross @SalvationArmyUS...  Pinky_Blessed04   \n116715  RT @ProgressTX: A reminder to @realDonaldTrump...    jennamariebee   \n116716  RT @EricHolthaus: #Harvey is the kind of storm...           nikt50   \n\n        Reply Count  Retweet Count  Like Count  Quote Count  View Count  \\\n0                 0              9           8            0         NaN   \n1                 0             44           0            0         NaN   \n2                 0           7359           0            0         NaN   \n3                 0           9452           0            0         NaN   \n4                 0              2           0            0         NaN   \n...             ...            ...         ...          ...         ...   \n116712            0              5           0            0         NaN   \n116713            0              2           0            0         NaN   \n116714            0           3296           0            0         NaN   \n116715            0             72           0            0         NaN   \n116716            0            107           0            0         NaN   \n\n                     Hashtags  \\\n0                  ['Harvey']   \n1         ['khou1', 'harvey']   \n2                  ['Harvey']   \n3       ['Houston', 'Harvey']   \n4         ['hurricaneharvey']   \n...                       ...   \n116712    ['HurricaneHarvey']   \n116713    ['HurricaneHarvey']   \n116714    ['HurricaneHarvey']   \n116715             ['Harvey']   \n116716             ['Harvey']   \n\n                                                    Media Coordinates Place  \n0                                                     NaN         NaN   NaN  \n1                                                     NaN         NaN   NaN  \n2                                                     NaN         NaN   NaN  \n3                                                     NaN         NaN   NaN  \n4                                                     NaN         NaN   NaN  \n...                                                   ...         ...   ...  \n116712                                                NaN         NaN   NaN  \n116713                                                NaN         NaN   NaN  \n116714                                                NaN         NaN   NaN  \n116715  [Photo(previewUrl='https://pbs.twimg.com/media...         NaN   NaN  \n116716                                                NaN         NaN   NaN  \n\n[116717 rows x 15 columns]",
      "text/html": "<div>\n<style scoped>\n    .dataframe tbody tr th:only-of-type {\n        vertical-align: middle;\n    }\n\n    .dataframe tbody tr th {\n        vertical-align: top;\n    }\n\n    .dataframe thead th {\n        text-align: right;\n    }\n</style>\n<table border=\"1\" class=\"dataframe\">\n  <thead>\n    <tr style=\"text-align: right;\">\n      <th></th>\n      <th>Unnamed: 0</th>\n      <th>Datetime</th>\n      <th>Tweet Id</th>\n      <th>Raw content</th>\n      <th>Text</th>\n      <th>Username</th>\n      <th>Reply Count</th>\n      <th>Retweet Count</th>\n      <th>Like Count</th>\n      <th>Quote Count</th>\n      <th>View Count</th>\n      <th>Hashtags</th>\n      <th>Media</th>\n      <th>Coordinates</th>\n      <th>Place</th>\n    </tr>\n  </thead>\n  <tbody>\n    <tr>\n      <th>0</th>\n      <td>0</td>\n      <td>2017-09-03 00:50:00+00:00</td>\n      <td>904144412770480133</td>\n      <td>Venezolano relata cómo la comunidad en Texas s...</td>\n      <td>Venezolano relata cómo la comunidad en Texas s...</td>\n      <td>EfectoCocuyo</td>\n      <td>0</td>\n      <td>9</td>\n      <td>8</td>\n      <td>0</td>\n      <td>NaN</td>\n      <td>['Harvey']</td>\n      <td>NaN</td>\n      <td>NaN</td>\n      <td>NaN</td>\n    </tr>\n    <tr>\n      <th>1</th>\n      <td>1</td>\n      <td>2017-08-28 17:53:42+00:00</td>\n      <td>902227705805938689</td>\n      <td>RT @JMilesKHOU: At Scholes Airport in Galvesto...</td>\n      <td>RT @JMilesKHOU: At Scholes Airport in Galvesto...</td>\n      <td>bluej02</td>\n      <td>0</td>\n      <td>44</td>\n      <td>0</td>\n      <td>0</td>\n      <td>NaN</td>\n      <td>['khou1', 'harvey']</td>\n      <td>NaN</td>\n      <td>NaN</td>\n      <td>NaN</td>\n    </tr>\n    <tr>\n      <th>2</th>\n      <td>2</td>\n      <td>2017-08-27 13:27:14+00:00</td>\n      <td>901798262176448512</td>\n      <td>RT @realDonaldTrump: Wow - Now experts are cal...</td>\n      <td>RT @realDonaldTrump: Wow - Now experts are cal...</td>\n      <td>inkiel26</td>\n      <td>0</td>\n      <td>7359</td>\n      <td>0</td>\n      <td>0</td>\n      <td>NaN</td>\n      <td>['Harvey']</td>\n      <td>NaN</td>\n      <td>NaN</td>\n      <td>NaN</td>\n    </tr>\n    <tr>\n      <th>3</th>\n      <td>3</td>\n      <td>2017-08-27 16:24:13+00:00</td>\n      <td>901842801557508097</td>\n      <td>RT @danholley_: Devastating images from #Houst...</td>\n      <td>RT @danholley_: Devastating images from #Houst...</td>\n      <td>littletlxj</td>\n      <td>0</td>\n      <td>9452</td>\n      <td>0</td>\n      <td>0</td>\n      <td>NaN</td>\n      <td>['Houston', 'Harvey']</td>\n      <td>NaN</td>\n      <td>NaN</td>\n      <td>NaN</td>\n    </tr>\n    <tr>\n      <th>4</th>\n      <td>4</td>\n      <td>2017-08-30 17:09:36+00:00</td>\n      <td>902941384025542656</td>\n      <td>RT @WBTravelPillow: Blankets are on the way to...</td>\n      <td>RT @WBTravelPillow: Blankets are on the way to...</td>\n      <td>mc_coldman</td>\n      <td>0</td>\n      <td>2</td>\n      <td>0</td>\n      <td>0</td>\n      <td>NaN</td>\n      <td>['hurricaneharvey']</td>\n      <td>NaN</td>\n      <td>NaN</td>\n      <td>NaN</td>\n    </tr>\n    <tr>\n      <th>...</th>\n      <td>...</td>\n      <td>...</td>\n      <td>...</td>\n      <td>...</td>\n      <td>...</td>\n      <td>...</td>\n      <td>...</td>\n      <td>...</td>\n      <td>...</td>\n      <td>...</td>\n      <td>...</td>\n      <td>...</td>\n      <td>...</td>\n      <td>...</td>\n      <td>...</td>\n    </tr>\n    <tr>\n      <th>116712</th>\n      <td>116712</td>\n      <td>2017-08-31 17:26:46+00:00</td>\n      <td>903308090858233857</td>\n      <td>RT @ColorinColorado: Our #HurricaneHarvey reso...</td>\n      <td>RT @ColorinColorado: Our #HurricaneHarvey reso...</td>\n      <td>armstrongvi</td>\n      <td>0</td>\n      <td>5</td>\n      <td>0</td>\n      <td>0</td>\n      <td>NaN</td>\n      <td>['HurricaneHarvey']</td>\n      <td>NaN</td>\n      <td>NaN</td>\n      <td>NaN</td>\n    </tr>\n    <tr>\n      <th>116713</th>\n      <td>116713</td>\n      <td>2017-09-09 21:59:42+00:00</td>\n      <td>906638266895609856</td>\n      <td>RT @musicaustin: Music for a great cause today...</td>\n      <td>RT @musicaustin: Music for a great cause today...</td>\n      <td>NicArmstrongXXX</td>\n      <td>0</td>\n      <td>2</td>\n      <td>0</td>\n      <td>0</td>\n      <td>NaN</td>\n      <td>['HurricaneHarvey']</td>\n      <td>NaN</td>\n      <td>NaN</td>\n      <td>NaN</td>\n    </tr>\n    <tr>\n      <th>116714</th>\n      <td>116714</td>\n      <td>2017-09-02 02:33:05+00:00</td>\n      <td>903807966674956288</td>\n      <td>RT @FLOTUS: I met w @RedCross @SalvationArmyUS...</td>\n      <td>RT @FLOTUS: I met w @RedCross @SalvationArmyUS...</td>\n      <td>Pinky_Blessed04</td>\n      <td>0</td>\n      <td>3296</td>\n      <td>0</td>\n      <td>0</td>\n      <td>NaN</td>\n      <td>['HurricaneHarvey']</td>\n      <td>NaN</td>\n      <td>NaN</td>\n      <td>NaN</td>\n    </tr>\n    <tr>\n      <th>116715</th>\n      <td>116715</td>\n      <td>2017-08-29 18:59:26+00:00</td>\n      <td>902606638565265408</td>\n      <td>RT @ProgressTX: A reminder to @realDonaldTrump...</td>\n      <td>RT @ProgressTX: A reminder to @realDonaldTrump...</td>\n      <td>jennamariebee</td>\n      <td>0</td>\n      <td>72</td>\n      <td>0</td>\n      <td>0</td>\n      <td>NaN</td>\n      <td>['Harvey']</td>\n      <td>[Photo(previewUrl='https://pbs.twimg.com/media...</td>\n      <td>NaN</td>\n      <td>NaN</td>\n    </tr>\n    <tr>\n      <th>116716</th>\n      <td>116716</td>\n      <td>2017-08-24 01:50:43+00:00</td>\n      <td>900535814324498432</td>\n      <td>RT @EricHolthaus: #Harvey is the kind of storm...</td>\n      <td>RT @EricHolthaus: #Harvey is the kind of storm...</td>\n      <td>nikt50</td>\n      <td>0</td>\n      <td>107</td>\n      <td>0</td>\n      <td>0</td>\n      <td>NaN</td>\n      <td>['Harvey']</td>\n      <td>NaN</td>\n      <td>NaN</td>\n      <td>NaN</td>\n    </tr>\n  </tbody>\n</table>\n<p>116717 rows × 15 columns</p>\n</div>"
     },
     "execution_count": 7,
     "metadata": {},
     "output_type": "execute_result"
    }
   ],
   "source": [
    "df"
   ],
   "metadata": {
    "collapsed": false
   }
  },
  {
   "cell_type": "code",
   "execution_count": 10,
   "outputs": [],
   "source": [
    "dates = df['Datetime']"
   ],
   "metadata": {
    "collapsed": false
   }
  },
  {
   "cell_type": "code",
   "execution_count": 11,
   "outputs": [
    {
     "data": {
      "text/plain": "0         2017-09-03 00:50:00+00:00\n1         2017-08-28 17:53:42+00:00\n2         2017-08-27 13:27:14+00:00\n3         2017-08-27 16:24:13+00:00\n4         2017-08-30 17:09:36+00:00\n                    ...            \n116712    2017-08-31 17:26:46+00:00\n116713    2017-09-09 21:59:42+00:00\n116714    2017-09-02 02:33:05+00:00\n116715    2017-08-29 18:59:26+00:00\n116716    2017-08-24 01:50:43+00:00\nName: Datetime, Length: 116717, dtype: object"
     },
     "execution_count": 11,
     "metadata": {},
     "output_type": "execute_result"
    }
   ],
   "source": [
    "dates"
   ],
   "metadata": {
    "collapsed": false
   }
  },
  {
   "cell_type": "code",
   "execution_count": null,
   "outputs": [],
   "source": [],
   "metadata": {
    "collapsed": false
   }
  }
 ],
 "metadata": {
  "kernelspec": {
   "display_name": "Python 3",
   "language": "python",
   "name": "python3"
  },
  "language_info": {
   "codemirror_mode": {
    "name": "ipython",
    "version": 2
   },
   "file_extension": ".py",
   "mimetype": "text/x-python",
   "name": "python",
   "nbconvert_exporter": "python",
   "pygments_lexer": "ipython2",
   "version": "2.7.6"
  }
 },
 "nbformat": 4,
 "nbformat_minor": 0
}
